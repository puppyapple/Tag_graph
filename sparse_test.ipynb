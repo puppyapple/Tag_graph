{
 "cells": [
  {
   "cell_type": "code",
   "execution_count": 1,
   "metadata": {},
   "outputs": [
    {
     "name": "stderr",
     "output_type": "stream",
     "text": [
      "/home/zijun.wu/anaconda3/lib/python3.6/site-packages/IPython/core/interactiveshell.py:2963: DtypeWarning: Columns (2) have mixed types. Specify dtype option on import or set low_memory=False.\n",
      "  exec(code_obj, self.user_global_ns, self.user_ns)\n"
     ]
    }
   ],
   "source": [
    "# -*- coding: utf-8 -*-\n",
    "from Code import recommendation\n",
    "from imp import reload\n",
    "# reload(Code.recommendation)"
   ]
  },
  {
   "cell_type": "code",
   "execution_count": null,
   "metadata": {},
   "outputs": [],
   "source": [
    "reload(recommendation)"
   ]
  },
  {
   "cell_type": "code",
   "execution_count": 1,
   "metadata": {},
   "outputs": [],
   "source": [
    "import numpy as np\n",
    "import pandas as pd\n",
    "import pickle\n",
    "import sys\n",
    "import inspect\n",
    "import multiprocessing as mp\n",
    "import pymysql\n",
    "import configparser\n",
    "from scipy.sparse import coo_matrix\n",
    "from collections import Counter\n",
    "from sklearn.preprocessing import MinMaxScaler\n",
    "from scipy.spatial.distance import pdist, jaccard\n",
    "from sklearn.metrics import pairwise_distances"
   ]
  },
  {
   "cell_type": "code",
   "execution_count": null,
   "metadata": {},
   "outputs": [],
   "source": [
    "1"
   ]
  },
  {
   "cell_type": "code",
   "execution_count": null,
   "metadata": {},
   "outputs": [],
   "source": [
    "config = configparser.ConfigParser()\n",
    "config.read(\"../Data/Input/database_config/database.conf\")\n",
    "host = config['ASSESSMENT']['host']\n",
    "user = config['ASSESSMENT']['user']\n",
    "password = config['ASSESSMENT']['password']\n",
    "database = config['ASSESSMENT']['database']\n",
    "port = config['ASSESSMENT']['port']\n",
    "charset = config['ASSESSMENT']['charset']\n",
    "db = pymysql.connect(host=host, user=user, password=password, db=database, port=int(port), charset=charset)"
   ]
  },
  {
   "cell_type": "markdown",
   "metadata": {},
   "source": [
    "# 尝试测试"
   ]
  },
  {
   "cell_type": "code",
   "execution_count": null,
   "metadata": {},
   "outputs": [],
   "source": [
    "from scipy.sparse import csr_matrix"
   ]
  },
  {
   "cell_type": "code",
   "execution_count": null,
   "metadata": {},
   "outputs": [],
   "source": [
    "def simple_minmax(column_target, min_v=0.001, max_v=1):\n",
    "    target = column_target.values.reshape(-1, 1)\n",
    "    scaler = MinMaxScaler(feature_range=(min_v, max_v))\n",
    "    scaler.fit(target)\n",
    "    return scaler.transform(target)"
   ]
  },
  {
   "cell_type": "code",
   "execution_count": null,
   "metadata": {},
   "outputs": [],
   "source": [
    "tag_tag = pd.read_csv(\"../Data/Output/Tag_graph/temp_result/tag_tag_result_all\", header=None)"
   ]
  },
  {
   "cell_type": "code",
   "execution_count": null,
   "metadata": {},
   "outputs": [],
   "source": [
    "tag_dict = pickle.load(open(\"../Data/Output/Tag_graph/v1/tag_dict.pkl\", \"rb\"))"
   ]
  },
  {
   "cell_type": "code",
   "execution_count": null,
   "metadata": {},
   "outputs": [],
   "source": [
    "tag_tag.columns = [\"tag1\", \"tag2\", \"link_type\", \"link_value\"]\n",
    "tag_tag.link_value = tag_tag.link_value.apply(lambda x: np.log2(min(0.000001 + x, 1)))\n",
    "tag_tag.link_value = simple_minmax(tag_tag.link_value)\n",
    "tag_tag = tag_tag[[\"tag1\", \"tag2\", \"link_type\", \"link_value\"]].drop_duplicates()\n",
    "tag_tag[\"tag_link\"] = tag_tag.tag1 + \"-\" + tag_tag.tag2"
   ]
  },
  {
   "cell_type": "code",
   "execution_count": null,
   "metadata": {},
   "outputs": [],
   "source": [
    "tag_tag_weights=(0.5, 0.3, 0.2)"
   ]
  },
  {
   "cell_type": "code",
   "execution_count": null,
   "metadata": {},
   "outputs": [],
   "source": [
    "tag_index = dict(zip(tag_dict.values(), range(0, len(tag_dict))))"
   ]
  },
  {
   "cell_type": "code",
   "execution_count": null,
   "metadata": {},
   "outputs": [],
   "source": [
    "length = len(tag_index)"
   ]
  },
  {
   "cell_type": "code",
   "execution_count": null,
   "metadata": {},
   "outputs": [],
   "source": [
    "length"
   ]
  },
  {
   "cell_type": "code",
   "execution_count": null,
   "metadata": {},
   "outputs": [],
   "source": [
    "row = np.array(tag_tag.tag1.apply(lambda x: tag_index.get(x)))"
   ]
  },
  {
   "cell_type": "code",
   "execution_count": null,
   "metadata": {},
   "outputs": [],
   "source": [
    "col = np.array(tag_tag.tag2.apply(lambda x: tag_index.get(x)))"
   ]
  },
  {
   "cell_type": "code",
   "execution_count": null,
   "metadata": {},
   "outputs": [],
   "source": [
    "data = np.array(tag_tag.link_value * tag_tag.link_type.apply(lambda x: tag_tag_weights[x]))"
   ]
  },
  {
   "cell_type": "code",
   "execution_count": null,
   "metadata": {},
   "outputs": [],
   "source": []
  },
  {
   "cell_type": "code",
   "execution_count": null,
   "metadata": {},
   "outputs": [],
   "source": [
    "pickle.dump(tag_tag_sparse, open(\"../Data/Output/Tag_graph/tag_tag_sparse.pkl\", \"wb\"))"
   ]
  },
  {
   "cell_type": "code",
   "execution_count": null,
   "metadata": {},
   "outputs": [],
   "source": [
    "tag_tag_sparse = pickle.load(open(\"../Data/Output/Tag_graph/tag_tag_sparse.pkl\", \"rb\"))"
   ]
  },
  {
   "cell_type": "code",
   "execution_count": null,
   "metadata": {},
   "outputs": [],
   "source": [
    "comp_tags_all = pickle.load(open(\"../Data/Output/Tag_graph/comp_tags_all.pkl\", \"rb\"))"
   ]
  },
  {
   "cell_type": "code",
   "execution_count": null,
   "metadata": {},
   "outputs": [],
   "source": [
    "comp_tags_all.loc[comp_tags_all.comp_id == '10000007422129887091'].index.tolist()[0]"
   ]
  },
  {
   "cell_type": "markdown",
   "metadata": {},
   "source": [
    "## 生成公司-标签向量全量稀疏矩阵"
   ]
  },
  {
   "cell_type": "code",
   "execution_count": null,
   "metadata": {},
   "outputs": [],
   "source": [
    "comp_tags_all[\"row_num\"] = comp_tags_all.index"
   ]
  },
  {
   "cell_type": "code",
   "execution_count": null,
   "metadata": {},
   "outputs": [],
   "source": [
    "comp_tags_all[\"coo\"]= comp_tags_all[[\"comp_tag_list\", \"row_num\"]].apply(lambda x: [(x[1], tag_index.get(w)) for w in x[0]], axis=1)"
   ]
  },
  {
   "cell_type": "code",
   "execution_count": null,
   "metadata": {},
   "outputs": [],
   "source": [
    "coord_list = [x for y in comp_tags_all.coo for x in y]"
   ]
  },
  {
   "cell_type": "code",
   "execution_count": null,
   "metadata": {},
   "outputs": [],
   "source": [
    "test = zip(*coord_list)"
   ]
  },
  {
   "cell_type": "code",
   "execution_count": null,
   "metadata": {},
   "outputs": [],
   "source": [
    "coords = tuple(map(list, zip(*coord_list)))"
   ]
  },
  {
   "cell_type": "code",
   "execution_count": null,
   "metadata": {},
   "outputs": [],
   "source": [
    "comp_tags_all_sparse = coo_matrix((np.ones(len(coord_list), dtype=int), (coords[0], coords[1])))"
   ]
  },
  {
   "cell_type": "code",
   "execution_count": null,
   "metadata": {},
   "outputs": [],
   "source": [
    "pickle.dump(comp_tags_all_sparse, open(\"../Data/Output/Tag_graph/comp_tags_all_sparse\", \"wb\"))"
   ]
  },
  {
   "cell_type": "code",
   "execution_count": null,
   "metadata": {},
   "outputs": [],
   "source": [
    "comp_tags_all_sparse, tag_tag_sparse"
   ]
  },
  {
   "cell_type": "markdown",
   "metadata": {},
   "source": [
    "## 计算测试"
   ]
  },
  {
   "cell_type": "code",
   "execution_count": null,
   "metadata": {},
   "outputs": [],
   "source": [
    "first = tag_tag_sparse.dot(test.T)"
   ]
  },
  {
   "cell_type": "code",
   "execution_count": null,
   "metadata": {},
   "outputs": [],
   "source": [
    "%time x = comp_tags_all_sparse.dot(tag_tag_sparse.dot(test.T))"
   ]
  },
  {
   "cell_type": "code",
   "execution_count": null,
   "metadata": {},
   "outputs": [],
   "source": [
    "y = x.toarray()"
   ]
  },
  {
   "cell_type": "code",
   "execution_count": null,
   "metadata": {},
   "outputs": [],
   "source": [
    "y"
   ]
  },
  {
   "cell_type": "code",
   "execution_count": null,
   "metadata": {},
   "outputs": [],
   "source": [
    "t = 1 - pairwise_distances(comp_tags_all_sparse.tocsr(), test.tocsr(), metric='cosine')"
   ]
  },
  {
   "cell_type": "code",
   "execution_count": null,
   "metadata": {},
   "outputs": [],
   "source": [
    "merged = np.concatenate((x.toarray(), t), axis=1)"
   ]
  },
  {
   "cell_type": "code",
   "execution_count": null,
   "metadata": {},
   "outputs": [],
   "source": [
    "comp_row_num = dict(zip(comp_tags_all.comp_id, comp_tags_all.row_num))"
   ]
  },
  {
   "cell_type": "code",
   "execution_count": null,
   "metadata": {},
   "outputs": [],
   "source": [
    "tag_list = list(tag_index.keys())"
   ]
  },
  {
   "cell_type": "markdown",
   "metadata": {},
   "source": [
    "## 计算函数"
   ]
  },
  {
   "cell_type": "code",
   "execution_count": null,
   "metadata": {},
   "outputs": [],
   "source": [
    "tag_dict_reverse = recommendation.tag_dict_reverse"
   ]
  },
  {
   "cell_type": "code",
   "execution_count": null,
   "metadata": {},
   "outputs": [],
   "source": [
    "comp_name = \"郑州宇通客车股份有限公司\""
   ]
  },
  {
   "cell_type": "code",
   "execution_count": null,
   "metadata": {},
   "outputs": [],
   "source": [
    "%time test = recommendation.sparse_cal(comp_name, response_num=200)"
   ]
  },
  {
   "cell_type": "code",
   "execution_count": null,
   "metadata": {},
   "outputs": [],
   "source": [
    "test[2].to_excel(\"宇通客车.xlsx\")"
   ]
  },
  {
   "cell_type": "code",
   "execution_count": null,
   "metadata": {},
   "outputs": [],
   "source": []
  },
  {
   "cell_type": "markdown",
   "metadata": {},
   "source": [
    "## 平安20家公司"
   ]
  },
  {
   "cell_type": "code",
   "execution_count": null,
   "metadata": {},
   "outputs": [],
   "source": [
    "has_invest = samples[samples.最近融资时间 != 0].sample(10)\n",
    "no_invest = samples[samples.最近融资时间 == 0].sample(10)"
   ]
  },
  {
   "cell_type": "code",
   "execution_count": null,
   "metadata": {},
   "outputs": [],
   "source": [
    "comp_infos, tag_tag, comp_id_name, tag_dict, comp_tags_all_sparse, tag_tag_sparse = recommendation.comp_infos, recommendation.tag_tag, recommendation.comp_id_name, recommendation.tag_dict, recommendation.comp_tags_all_sparse, recommendation.tag_tag_sparse"
   ]
  },
  {
   "cell_type": "code",
   "execution_count": null,
   "metadata": {},
   "outputs": [],
   "source": [
    "comp_list = [\"深圳市移联网络科技有限公司\", \"康泽药业股份有限公司\", \"深圳市泛谷药业股份有限公司\", \n",
    "              \"广东瑞兴医药股份有限公司\", \"深圳市微购科技有限公司\", \"快尚时装（广州）有限公司\", \n",
    "              \"广州食得鲜网络科技有限公司\", \"百草堂医药股份有限公司\", \"广州启生信息技术有限公司\", \n",
    "              \"深圳市百分之百数码科技有限公司\", \"深圳市金檀科技有限公司\", \"广州诚泽信息科技有限公司\", \"深圳市世纪润和珠宝有限公司\", \n",
    "             \"深圳市佰供信息技术有限公司\", \"中山市放心大药房有限公司\", \"佛山市居道家具有限公司\", \n",
    "             \"中山市辰星医药有限公司\", \"广州美妆广告有限公司\", \"东莞市万顺建材有限公司\", \n",
    "             \"佛山市盈博悦贸易有限公司\"]"
   ]
  },
  {
   "cell_type": "code",
   "execution_count": null,
   "metadata": {},
   "outputs": [],
   "source": [
    "def get_competitors(comp_list):\n",
    "    target_comp_tags = []\n",
    "    no_records = []\n",
    "    for comp_name in comp_list:\n",
    "        print(\"开始计算 %s\" % comp_name)\n",
    "        result = recommendation.sparse_cal(comp_name, response_num=50)\n",
    "        if result != -1:\n",
    "            result_list = tuple(result[2].comp_id.tolist())\n",
    "            # print(result_list)\n",
    "            sql_intro = \"select distinct comp_id, comp_full_name, intro  \\\n",
    "                from company_intro_info_latest0703 where comp_id in %s\" % str(result_list)\n",
    "            intro = pd.read_sql(sql_intro, con=db)\n",
    "            # print(intro.head(3))\n",
    "            result[2].merge(intro, how=\"left\", on=\"comp_id\").to_excel(comp_name + \".xlsx\")\n",
    "            target_comp_tags.append((result[0], comp_name, result[1]))\n",
    "            print (\"%s 计算完成\" % comp_name)\n",
    "        else:\n",
    "            no_records.append(comp_name)\n",
    "    targets_tags = pd.DataFrame(target_comp_tags, columns=[\"comp_id\", \"comp_name\", \"tags\"])\n",
    "    targets_info_sql = \"select distinct comp_id, comp_full_name, intro  \\\n",
    "            from company_intro_info_latest0703 where comp_id in %s\" % str(tuple(targets_tags.comp_id.tolist()))\n",
    "    targets_intros = pd.read_sql(targets_info_sql, con=db)\n",
    "    targets_tags.merge(targets_intros, how=\"left\", on=\"comp_id\").to_excel(\"target_comp_tags.xlsx\")\n",
    "    if len(no_records):\n",
    "        print(\"以下公司未在库中匹配到：%s\" % \",\".join(no_records))\n",
    "    return 0"
   ]
  },
  {
   "cell_type": "markdown",
   "metadata": {},
   "source": [
    "## 首部1500家抽取"
   ]
  },
  {
   "cell_type": "code",
   "execution_count": null,
   "metadata": {},
   "outputs": [],
   "source": [
    "top_comps = pd.read_excel(\"潜力企业数据.xlsx\")"
   ]
  },
  {
   "cell_type": "code",
   "execution_count": null,
   "metadata": {},
   "outputs": [],
   "source": [
    "length = len(top_comps)\n",
    "layer_deep = length // 3\n",
    "rand_list = np.random.choice(layer_deep, size=10, replace=False)"
   ]
  },
  {
   "cell_type": "code",
   "execution_count": null,
   "metadata": {},
   "outputs": [],
   "source": [
    "sample_index = np.concatenate((rand_list, rand_list + layer_deep, rand_list + 2*layer_deep))"
   ]
  },
  {
   "cell_type": "code",
   "execution_count": null,
   "metadata": {},
   "outputs": [],
   "source": [
    "rand_list"
   ]
  },
  {
   "cell_type": "code",
   "execution_count": null,
   "metadata": {},
   "outputs": [],
   "source": [
    "comp_name_list = top_comps.loc[sample_index][\"公司全称\"].tolist()"
   ]
  },
  {
   "cell_type": "code",
   "execution_count": null,
   "metadata": {},
   "outputs": [],
   "source": [
    "comp_name_list"
   ]
  },
  {
   "cell_type": "code",
   "execution_count": null,
   "metadata": {},
   "outputs": [],
   "source": [
    "Counter(comp_name_list)"
   ]
  },
  {
   "cell_type": "code",
   "execution_count": null,
   "metadata": {},
   "outputs": [],
   "source": [
    "%time get_competitors(comp_name_list)"
   ]
  },
  {
   "cell_type": "code",
   "execution_count": null,
   "metadata": {},
   "outputs": [],
   "source": [
    "len(set(comp_name_list))"
   ]
  },
  {
   "cell_type": "code",
   "execution_count": null,
   "metadata": {},
   "outputs": [],
   "source": []
  },
  {
   "cell_type": "markdown",
   "metadata": {},
   "source": [
    "## 发现产标签公司的影响实在太大，尝试不对tag-tag关联值进行log处理"
   ]
  },
  {
   "cell_type": "code",
   "execution_count": null,
   "metadata": {},
   "outputs": [],
   "source": [
    "tag_tag_weights=(0.5, 0.3, 0.2)"
   ]
  },
  {
   "cell_type": "code",
   "execution_count": null,
   "metadata": {},
   "outputs": [],
   "source": [
    "def simple_minmax(column_target, min_v=0.001, max_v=1):\n",
    "    target = column_target.values.reshape(-1, 1)\n",
    "    scaler = MinMaxScaler(feature_range=(min_v, max_v))\n",
    "    scaler.fit(target)\n",
    "    return scaler.transform(target)"
   ]
  },
  {
   "cell_type": "code",
   "execution_count": null,
   "metadata": {},
   "outputs": [],
   "source": [
    "tag_tag = pd.read_csv(\"../Data/Output/Tag_graph/temp_result/tag_tag_result_all\", header=None)\n",
    "tag_dict = tag_dict = pickle.load(open(\"../Data/Output/Tag_graph/tag_dict.pkl\", \"rb\"))\n",
    "tag_tag.columns = [\"tag1\", \"tag2\", \"link_type\", \"link_value\"]\n",
    "# tag_tag.link_value = tag_tag.link_value.apply(lambda x: np.log2(min(0.000001 + x, 1)))\n",
    "tag_tag.link_value = simple_minmax(tag_tag.link_value)\n",
    "tag_tag = tag_tag[[\"tag1\", \"tag2\", \"link_type\", \"link_value\"]].drop_duplicates()\n",
    "tag_index = dict(zip(tag_dict.values(), range(0, len(tag_dict))))\n",
    "length = len(tag_index)\n",
    "row = np.array(tag_tag.tag1.apply(lambda x: tag_index.get(x)))\n",
    "col = np.array(tag_tag.tag2.apply(lambda x: tag_index.get(x)))\n",
    "data = np.array(tag_tag.link_value * tag_tag.link_type.apply(lambda x: tag_tag_weights[x]))\n",
    "tag_tag_sparse = coo_matrix((data, (row, col)), shape=(length, length))\n",
    "pickle.dump(tag_tag_sparse, open(\"../Data/Output/Tag_graph/tag_tag_no_log_sparse.pkl\", \"wb\"))"
   ]
  },
  {
   "cell_type": "code",
   "execution_count": null,
   "metadata": {},
   "outputs": [],
   "source": [
    "data.max()"
   ]
  },
  {
   "cell_type": "markdown",
   "metadata": {},
   "source": [
    "## 接口测试"
   ]
  },
  {
   "cell_type": "code",
   "execution_count": null,
   "metadata": {},
   "outputs": [],
   "source": [
    "import requests\n",
    "import json\n",
    "import pandas as pd\n",
    "import pickle"
   ]
  },
  {
   "cell_type": "code",
   "execution_count": 8,
   "metadata": {},
   "outputs": [],
   "source": [
    "comp_name = \"湖北优耐德节能环保科技有限公司\"\n",
    "comp_info = \"传统行业,制造业,材料类,建筑业,装配式建筑#1,2,3,4,4\""
   ]
  },
  {
   "cell_type": "code",
   "execution_count": 3,
   "metadata": {},
   "outputs": [],
   "source": [
    "comp_full_name = \"北京必果科技有限公司\"\n",
    "comp_info2 = \"英语口语,听说读写,新零售,语言学习,教育,移动互联网教育,生活场景,少儿外语,互动设计,英语学习,学习app,便利店,智能卡,儿童英语,学英语,儿童英语学习,卡通#4,3,1,3,3,4,1,3,1,3,2,1,1,4,3,4,1\"\n",
    "top_n_comp = 100"
   ]
  },
  {
   "cell_type": "code",
   "execution_count": 3,
   "metadata": {},
   "outputs": [],
   "source": [
    "metric = \"cosine\""
   ]
  },
  {
   "cell_type": "code",
   "execution_count": 9,
   "metadata": {},
   "outputs": [],
   "source": [
    "test = recommendation.sparse_cal(comp_name=comp_name, metric=metric, comp_info=comp_info, response_num=100)"
   ]
  },
  {
   "cell_type": "code",
   "execution_count": 10,
   "metadata": {},
   "outputs": [
    {
     "data": {
      "text/plain": [
       "-1"
      ]
     },
     "execution_count": 10,
     "metadata": {},
     "output_type": "execute_result"
    }
   ],
   "source": [
    "test"
   ]
  },
  {
   "cell_type": "code",
   "execution_count": 5,
   "metadata": {},
   "outputs": [],
   "source": [
    "test2 = recommendation.sparse_cal(comp_name=comp_full_name, metric=metric, comp_info=comp_info2, response_num=100)"
   ]
  },
  {
   "cell_type": "code",
   "execution_count": null,
   "metadata": {},
   "outputs": [],
   "source": [
    "test2[2]"
   ]
  },
  {
   "cell_type": "code",
   "execution_count": null,
   "metadata": {},
   "outputs": [],
   "source": [
    "%time r = requests.post(\"http://172.30.212.219:8999/recommendation\", data={\"comp_name\": comp_name, \"metric\": \"euclidean\", \"comp_info\": \"\", \"response_num\": 20})"
   ]
  },
  {
   "cell_type": "code",
   "execution_count": null,
   "metadata": {},
   "outputs": [],
   "source": [
    "%time r2 = requests.post(\"http://172.30.212.219:8999/recommendation\", data={\"comp_name\": comp_full_name, \"comp_info\": comp_info2, \"response_num\": top_n_comp})"
   ]
  },
  {
   "cell_type": "code",
   "execution_count": null,
   "metadata": {},
   "outputs": [],
   "source": []
  },
  {
   "cell_type": "code",
   "execution_count": null,
   "metadata": {},
   "outputs": [],
   "source": [
    "result_df = pd.DataFrame(r.json().get(\"data\"))"
   ]
  },
  {
   "cell_type": "code",
   "execution_count": null,
   "metadata": {},
   "outputs": [],
   "source": [
    "result_df"
   ]
  },
  {
   "cell_type": "code",
   "execution_count": null,
   "metadata": {},
   "outputs": [],
   "source": [
    "comp_id_list = list(set(pd.read_excel(\"companies.xlsx\")[\"公司id\"]))"
   ]
  },
  {
   "cell_type": "code",
   "execution_count": null,
   "metadata": {},
   "outputs": [],
   "source": [
    "comp_name_list = list(set(pd.read_excel(\"companies.xlsx\")[\"公司名\"]))"
   ]
  },
  {
   "cell_type": "code",
   "execution_count": null,
   "metadata": {},
   "outputs": [],
   "source": [
    "def get_competitors_from_api(comp_name, comp_info=\"\"):\n",
    "    result = requests.post(\"http://172.29.237.212:8999/recommendation\", data={\"comp_name\": comp_name, \"comp_info\": comp_info, \"response_num\": 50})\n",
    "    result_df = pd.DataFrame(result.json().get(\"data\"))\n",
    "    result_df.to_excel(\"310公司/%s.xlsx\" % comp_name)"
   ]
  },
  {
   "cell_type": "code",
   "execution_count": null,
   "metadata": {},
   "outputs": [],
   "source": [
    "for i in range(len(comp_name_list)):\n",
    "    print(\"#### %d start %s #####\" % (i, comp_name_list[i]))\n",
    "    get_competitors_from_api(comp_name_list[i])\n",
    "    print(\"#### save %s ####\" % comp_name_list[i])"
   ]
  },
  {
   "cell_type": "code",
   "execution_count": null,
   "metadata": {},
   "outputs": [],
   "source": []
  },
  {
   "cell_type": "code",
   "execution_count": null,
   "metadata": {},
   "outputs": [],
   "source": []
  },
  {
   "cell_type": "code",
   "execution_count": null,
   "metadata": {},
   "outputs": [],
   "source": []
  },
  {
   "cell_type": "markdown",
   "metadata": {},
   "source": [
    "## 指定目标和匹配池进行相似度计算"
   ]
  },
  {
   "cell_type": "code",
   "execution_count": 1,
   "metadata": {},
   "outputs": [
    {
     "name": "stderr",
     "output_type": "stream",
     "text": [
      "/home/zijun.wu/anaconda3/lib/python3.6/site-packages/IPython/core/interactiveshell.py:2963: DtypeWarning: Columns (2) have mixed types. Specify dtype option on import or set low_memory=False.\n",
      "  exec(code_obj, self.user_global_ns, self.user_ns)\n"
     ]
    }
   ],
   "source": [
    "from Code.recommendation import *"
   ]
  },
  {
   "cell_type": "code",
   "execution_count": 34,
   "metadata": {},
   "outputs": [],
   "source": [
    "inputs = pd.read_excel(\"相似度计算 update.xlsx\")"
   ]
  },
  {
   "cell_type": "code",
   "execution_count": 35,
   "metadata": {},
   "outputs": [],
   "source": [
    "target_comps = inputs.columns.tolist()\n",
    "search_pool = inputs.index.tolist()"
   ]
  },
  {
   "cell_type": "code",
   "execution_count": 36,
   "metadata": {},
   "outputs": [],
   "source": [
    "def matrix_similarities(target_comps, search_pool):\n",
    "    target_ids = comp_id_name[comp_id_name.name.isin(target_comps)].point_id.tolist()\n",
    "    search_pool_ids = comp_id_name[comp_id_name.name.isin(search_pool)].point_id.tolist()\n",
    "    \n",
    "    target_indexes = comp_infos[comp_infos.comp_id.isin(target_ids)].index.tolist()\n",
    "    search_pool_indexes = comp_infos[comp_infos.comp_id.isin(search_pool_ids)].index.tolist()\n",
    "    # print(len(target_ids), len(search_pool_ids), len(target_indexes), len(search_pool_indexes))\n",
    "    \n",
    "    column_ids = comp_infos.loc[target_indexes].comp_id.to_frame()\n",
    "    index_ids = comp_infos.loc[search_pool_indexes].comp_id.to_frame()\n",
    "    column_name = column_ids.merge(comp_id_name, left_on=\"comp_id\", right_on=\"point_id\").name.tolist()\n",
    "    index_name = index_ids.merge(comp_id_name, left_on=\"comp_id\", right_on=\"point_id\").name.tolist()\n",
    "\n",
    "    csr_matrix = comp_tags_all_sparse.tocsr()\n",
    "    target_matrix = csr_matrix[target_indexes, :]\n",
    "    search_pool_matrix = csr_matrix[search_pool_indexes]\n",
    "    udf_sim = search_pool_matrix.dot(tag_tag_sparse.dot(target_matrix.T)).toarray()\n",
    "    cosine_sim = 1 - pairwise_distances(search_pool_matrix, target_matrix, metric=\"cosine\")\n",
    "\n",
    "    sim_prod = cosine_sim * udf_sim\n",
    "    result = pd.DataFrame(sim_prod, index=index_name, columns=column_name)\n",
    "    return result"
   ]
  },
  {
   "cell_type": "code",
   "execution_count": 37,
   "metadata": {},
   "outputs": [],
   "source": [
    "r = matrix_similarities(target_comps, search_pool)"
   ]
  },
  {
   "cell_type": "code",
   "execution_count": 38,
   "metadata": {},
   "outputs": [],
   "source": [
    "r.to_excel(\"similarities_result_update.xlsx\")"
   ]
  },
  {
   "cell_type": "markdown",
   "metadata": {},
   "source": [
    "## 主营结果统计分析"
   ]
  },
  {
   "cell_type": "code",
   "execution_count": null,
   "metadata": {},
   "outputs": [],
   "source": [
    "main_business = pd.read_sql(\"select comp_id, comp_full_name, info_extra_tag, name_tag from innotree_data_assessment.comp_main_business_0726\", con=db)"
   ]
  },
  {
   "cell_type": "code",
   "execution_count": null,
   "metadata": {},
   "outputs": [],
   "source": [
    "main_business.fillna(\"\", inplace=True)"
   ]
  },
  {
   "cell_type": "code",
   "execution_count": null,
   "metadata": {},
   "outputs": [],
   "source": [
    "main_business.head()"
   ]
  },
  {
   "cell_type": "code",
   "execution_count": null,
   "metadata": {},
   "outputs": [],
   "source": [
    "main_business[[\"info_extra_tag\", \"name_tag\"]] = main_business.apply({\"info_extra_tag\": lambda x: x.strip(\"\\n\"), \"name_tag\": lambda x: x.strip(\"\\n\")})"
   ]
  },
  {
   "cell_type": "code",
   "execution_count": null,
   "metadata": {},
   "outputs": [],
   "source": [
    "main_business.head(3)"
   ]
  },
  {
   "cell_type": "code",
   "execution_count": null,
   "metadata": {},
   "outputs": [],
   "source": [
    "main_business[\"extra_tag_count\"] = main_business.info_extra_tag.apply(lambda x: 0 if x == \"\" else len(set(x.split(\"-\"))))"
   ]
  },
  {
   "cell_type": "code",
   "execution_count": null,
   "metadata": {},
   "outputs": [],
   "source": [
    "main_business[\"name_tag_count\"] = main_business.name_tag.apply(lambda x: 0 if x == \"\" else len(set(x.split(\"-\"))))"
   ]
  },
  {
   "cell_type": "code",
   "execution_count": null,
   "metadata": {},
   "outputs": [],
   "source": [
    "main_business.describe()"
   ]
  },
  {
   "cell_type": "code",
   "execution_count": null,
   "metadata": {},
   "outputs": [],
   "source": []
  },
  {
   "cell_type": "code",
   "execution_count": null,
   "metadata": {},
   "outputs": [],
   "source": []
  },
  {
   "cell_type": "code",
   "execution_count": null,
   "metadata": {},
   "outputs": [],
   "source": []
  },
  {
   "cell_type": "code",
   "execution_count": null,
   "metadata": {},
   "outputs": [],
   "source": []
  },
  {
   "cell_type": "code",
   "execution_count": null,
   "metadata": {},
   "outputs": [],
   "source": []
  },
  {
   "cell_type": "code",
   "execution_count": null,
   "metadata": {},
   "outputs": [],
   "source": []
  },
  {
   "cell_type": "code",
   "execution_count": null,
   "metadata": {},
   "outputs": [],
   "source": []
  },
  {
   "cell_type": "code",
   "execution_count": null,
   "metadata": {},
   "outputs": [],
   "source": []
  }
 ],
 "metadata": {
  "kernelspec": {
   "display_name": "Python 3",
   "language": "python",
   "name": "python3"
  },
  "language_info": {
   "codemirror_mode": {
    "name": "ipython",
    "version": 3
   },
   "file_extension": ".py",
   "mimetype": "text/x-python",
   "name": "python",
   "nbconvert_exporter": "python",
   "pygments_lexer": "ipython3",
   "version": "3.6.5"
  }
 },
 "nbformat": 4,
 "nbformat_minor": 2
}
