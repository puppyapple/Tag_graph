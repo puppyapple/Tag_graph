{
 "cells": [
  {
   "cell_type": "code",
   "execution_count": 1,
   "metadata": {},
   "outputs": [],
   "source": [
    "import pandas as pd\n",
    "import numpy as np\n",
    "import uuid\n",
    "import pickle\n",
    "import os\n",
    "import configparser\n",
    "import pymysql\n",
    "import multiprocessing as mp\n",
    "import sys\n",
    "from imp import reload\n",
    "# from pyspark.ml.fpm import FPGrowth\n",
    "from Code import data_generator_new\n",
    "from sklearn import preprocessing\n",
    "from sklearn.preprocessing import MinMaxScaler"
   ]
  },
  {
   "cell_type": "code",
   "execution_count": null,
   "metadata": {},
   "outputs": [],
   "source": [
    "reload(data_generator_new)"
   ]
  },
  {
   "cell_type": "markdown",
   "metadata": {},
   "source": [
    "### 数据探查"
   ]
  },
  {
   "cell_type": "code",
   "execution_count": null,
   "metadata": {},
   "outputs": [],
   "source": [
    "data_raw = pd.read_sql(\"select comp_id, label_name, classify_id, label_type, label_type_num from company_tag_info_latest0703\", con=data_generator_new.db)"
   ]
  },
  {
   "cell_type": "code",
   "execution_count": null,
   "metadata": {},
   "outputs": [],
   "source": [
    "len(data_raw)"
   ]
  },
  {
   "cell_type": "code",
   "execution_count": null,
   "metadata": {},
   "outputs": [],
   "source": [
    "comp_id_dict = data_raw.comp_id.drop_duplicates().reset_index(drop=True).reset_index() \\\n",
    "    .rename(index=str, columns={\"index\": \"comp_int_id\"})\n",
    "data_raw = data_raw.merge(comp_id_dict, how=\"left\", left_on=\"comp_id\", right_on=\"comp_id\")"
   ]
  },
  {
   "cell_type": "code",
   "execution_count": null,
   "metadata": {},
   "outputs": [],
   "source": [
    "data_raw.head(3)"
   ]
  },
  {
   "cell_type": "code",
   "execution_count": null,
   "metadata": {},
   "outputs": [],
   "source": [
    "ctag_table = data_raw[data_raw.classify_id != 4]"
   ]
  },
  {
   "cell_type": "code",
   "execution_count": null,
   "metadata": {},
   "outputs": [],
   "source": [
    "ctag_agg = nctag_table.groupby(\"label_name\").agg({\"comp_id\": \"count\"})"
   ]
  },
  {
   "cell_type": "code",
   "execution_count": null,
   "metadata": {},
   "outputs": [],
   "source": [
    "ctag_agg.sort_values(by=\"comp_id\", ascending=False)"
   ]
  },
  {
   "cell_type": "code",
   "execution_count": null,
   "metadata": {},
   "outputs": [],
   "source": [
    "nctag_table = data_raw[data_raw.classify_id == 4]"
   ]
  },
  {
   "cell_type": "code",
   "execution_count": null,
   "metadata": {},
   "outputs": [],
   "source": [
    "nctag_agg = nctag_table.groupby(\"label_name\").agg({\"comp_id\": \"count\"}).reset_index()"
   ]
  },
  {
   "cell_type": "code",
   "execution_count": null,
   "metadata": {},
   "outputs": [],
   "source": [
    "nctag_agg[\"word_len\"] = nctag_agg.label_name.apply(lambda x: len(str(x)))"
   ]
  },
  {
   "cell_type": "code",
   "execution_count": null,
   "metadata": {},
   "outputs": [],
   "source": [
    "nctag_agg.sort_values(by=\"comp_id\", ascending=False).head(100)"
   ]
  },
  {
   "cell_type": "code",
   "execution_count": null,
   "metadata": {},
   "outputs": [],
   "source": [
    "nctag_agg[nctag_agg.comp_id >= 150].groupby(\"word_len\").agg({\"label_name\": \"count\"})"
   ]
  },
  {
   "cell_type": "code",
   "execution_count": null,
   "metadata": {},
   "outputs": [],
   "source": [
    "nctag_agg[(nctag_agg.comp_id >= 150) & (nctag_agg.word_len > 3)]"
   ]
  },
  {
   "cell_type": "code",
   "execution_count": null,
   "metadata": {},
   "outputs": [],
   "source": [
    "nctag_to_keep = nctag_agg[(nctag_agg.comp_id >= 150) & (nctag_agg.comp_id <= 1000000) & (nctag_agg.word_len >= 4)]"
   ]
  },
  {
   "cell_type": "code",
   "execution_count": null,
   "metadata": {},
   "outputs": [],
   "source": [
    "nctag_to_keep"
   ]
  },
  {
   "cell_type": "code",
   "execution_count": null,
   "metadata": {},
   "outputs": [],
   "source": [
    "nctag_table = nctag_table[nctag_table.label_name.isin(nctag_to_keep.label_name)]"
   ]
  },
  {
   "cell_type": "code",
   "execution_count": null,
   "metadata": {},
   "outputs": [],
   "source": [
    "nctag_table.head(2)"
   ]
  },
  {
   "cell_type": "code",
   "execution_count": null,
   "metadata": {},
   "outputs": [],
   "source": [
    "ctag_table.head(2)"
   ]
  },
  {
   "cell_type": "code",
   "execution_count": null,
   "metadata": {},
   "outputs": [],
   "source": []
  },
  {
   "cell_type": "code",
   "execution_count": null,
   "metadata": {},
   "outputs": [],
   "source": []
  },
  {
   "cell_type": "code",
   "execution_count": null,
   "metadata": {},
   "outputs": [],
   "source": [
    "pwd"
   ]
  },
  {
   "cell_type": "markdown",
   "metadata": {},
   "source": [
    "### 检测comp_tag函数"
   ]
  },
  {
   "cell_type": "code",
   "execution_count": null,
   "metadata": {},
   "outputs": [],
   "source": [
    "data_generator_new.comp_tag()"
   ]
  },
  {
   "cell_type": "markdown",
   "metadata": {},
   "source": [
    "### 检测data_aggregator函数，返回概念、非概念各自聚合公司的结果，以及公司标签关联、公司总数"
   ]
  },
  {
   "cell_type": "code",
   "execution_count": 4,
   "metadata": {},
   "outputs": [
    {
     "name": "stdout",
     "output_type": "stream",
     "text": [
      "tag_comps_aggregated_for_spark saved!\n",
      "tag_points appended!\n",
      "company-tag link count: 28913615\n",
      "comp_tag_relations saved\n"
     ]
    },
    {
     "data": {
      "text/plain": [
       "0"
      ]
     },
     "execution_count": 4,
     "metadata": {},
     "output_type": "execute_result"
    }
   ],
   "source": [
    "data_generator_new.data_aggregator()"
   ]
  },
  {
   "cell_type": "markdown",
   "metadata": {},
   "source": [
    "### 计算公司标签全集"
   ]
  },
  {
   "cell_type": "code",
   "execution_count": null,
   "metadata": {},
   "outputs": [],
   "source": [
    "data_generator_new.properties()"
   ]
  },
  {
   "cell_type": "markdown",
   "metadata": {},
   "source": [
    "### 计算标签关联"
   ]
  },
  {
   "cell_type": "code",
   "execution_count": null,
   "metadata": {},
   "outputs": [],
   "source": []
  },
  {
   "cell_type": "markdown",
   "metadata": {},
   "source": [
    "### 全流程测试"
   ]
  },
  {
   "cell_type": "code",
   "execution_count": null,
   "metadata": {},
   "outputs": [],
   "source": [
    "!python Code/pipline_new.py"
   ]
  },
  {
   "cell_type": "code",
   "execution_count": null,
   "metadata": {},
   "outputs": [],
   "source": []
  },
  {
   "cell_type": "markdown",
   "metadata": {},
   "source": [
    "### 智能网联汽车关联的top1000概念非概念标签"
   ]
  },
  {
   "cell_type": "code",
   "execution_count": null,
   "metadata": {},
   "outputs": [],
   "source": [
    "relations = pd.read_csv(\"../Data/Output/Tag_graph/all_relations.csv\", header=None)"
   ]
  },
  {
   "cell_type": "code",
   "execution_count": null,
   "metadata": {},
   "outputs": [],
   "source": [
    "relations.columns = [\"src_id\", \"target_id\", \"rel_value\", \"rel_type\"]"
   ]
  },
  {
   "cell_type": "code",
   "execution_count": null,
   "metadata": {},
   "outputs": [],
   "source": [
    "relations.head(1)"
   ]
  },
  {
   "cell_type": "code",
   "execution_count": null,
   "metadata": {},
   "outputs": [],
   "source": [
    "tag_dict = pickle.load(open(\"../Data/Output/Tag_graph/tag_dict.pkl\", \"rb\"))\n",
    "tag_dict_reverse = dict(zip(tag_dict.values(), tag_dict.keys()))"
   ]
  },
  {
   "cell_type": "code",
   "execution_count": null,
   "metadata": {},
   "outputs": [],
   "source": [
    "target_tag = tag_dict.get(\"智能网联汽车\")"
   ]
  },
  {
   "cell_type": "code",
   "execution_count": null,
   "metadata": {},
   "outputs": [],
   "source": [
    "target_tag"
   ]
  },
  {
   "cell_type": "code",
   "execution_count": null,
   "metadata": {},
   "outputs": [],
   "source": [
    "linked_ctag_top_1000 = relations[(relations.src_id == target_tag) & (relations.rel_type == \"ctag_ctag\")].sort_values(by=\"rel_value\", ascending=False)"
   ]
  },
  {
   "cell_type": "code",
   "execution_count": null,
   "metadata": {},
   "outputs": [],
   "source": [
    "len(linked_ctag_top_1000)"
   ]
  },
  {
   "cell_type": "code",
   "execution_count": null,
   "metadata": {},
   "outputs": [],
   "source": [
    "_linked_ctag_top_1000 = relations[(relations.src_id == target_tag) & (relations.rel_type == \"ctag_ctag\")].sort_values(by=\"rel_value\", ascending=False)"
   ]
  },
  {
   "cell_type": "code",
   "execution_count": null,
   "metadata": {},
   "outputs": [],
   "source": [
    "len(_linked_ctag_top_1000)"
   ]
  },
  {
   "cell_type": "code",
   "execution_count": null,
   "metadata": {},
   "outputs": [],
   "source": [
    "linked_nctag_top_1000 = relations[(relations.target_id == target_tag) & (relations.rel_type == \"ctag_ctag\")].sort_values(by=\"rel_value\", ascending=False)[:1000]"
   ]
  },
  {
   "cell_type": "code",
   "execution_count": null,
   "metadata": {},
   "outputs": [],
   "source": [
    "len(linked_nctag_top_1000)"
   ]
  },
  {
   "cell_type": "code",
   "execution_count": null,
   "metadata": {},
   "outputs": [],
   "source": [
    "_linked_nctag_top_1000 = relations[(relations.src_id == target_tag) & (relations.rel_type == \"ctag_ntag\")].sort_values(by=\"rel_value\", ascending=False)[:1000]"
   ]
  },
  {
   "cell_type": "code",
   "execution_count": null,
   "metadata": {},
   "outputs": [],
   "source": [
    "linked_ctag_top_1000[\"target_tag_name\"] = linked_ctag_top_1000.targe_id.apply(lambda x: tag_dict_reverse.get(x))[:1000]"
   ]
  },
  {
   "cell_type": "code",
   "execution_count": null,
   "metadata": {},
   "outputs": [],
   "source": [
    "linked_nctag_top_1000[\"target_tag_name\"] = linked_nctag_top_1000.targe_id.apply(lambda x: tag_dict_reverse.get(x))[:1000]"
   ]
  },
  {
   "cell_type": "code",
   "execution_count": null,
   "metadata": {},
   "outputs": [],
   "source": []
  },
  {
   "cell_type": "code",
   "execution_count": null,
   "metadata": {},
   "outputs": [],
   "source": []
  },
  {
   "cell_type": "code",
   "execution_count": null,
   "metadata": {},
   "outputs": [],
   "source": []
  },
  {
   "cell_type": "code",
   "execution_count": null,
   "metadata": {},
   "outputs": [],
   "source": [
    "df = spark.createDataFrame([\n",
    "    (0, \"a\"),\n",
    "    (1, \"a\"),\n",
    "    (1, \"b\"),\n",
    "    (1, \"c\"),\n",
    "    (2, \"a\"),\n",
    "    (2, \"b\"),\n",
    "    (2, \"b\"),\n",
    "    (2, \"b\"),\n",
    "    (2, \"c\"),\n",
    "    (0, \"a\"),\n",
    "    (1, \"b\"),\n",
    "    (1, \"b\"),\n",
    "    (2, \"cc\"),\n",
    "    (3, \"a\"),\n",
    "    (4, \"a\"),\n",
    "    (5, \"c\")\n",
    "], [\"id\", \"category\"])"
   ]
  },
  {
   "cell_type": "code",
   "execution_count": null,
   "metadata": {},
   "outputs": [],
   "source": [
    "df.show()"
   ]
  },
  {
   "cell_type": "code",
   "execution_count": null,
   "metadata": {},
   "outputs": [],
   "source": [
    "pivoted = df.groupBy(\"id\").pivot(\"category\").count().na.fill(0)"
   ]
  },
  {
   "cell_type": "code",
   "execution_count": null,
   "metadata": {},
   "outputs": [],
   "source": [
    "pivoted.show()"
   ]
  },
  {
   "cell_type": "code",
   "execution_count": null,
   "metadata": {},
   "outputs": [],
   "source": [
    "from pyspark.ml.feature import MinHashLSH"
   ]
  },
  {
   "cell_type": "code",
   "execution_count": null,
   "metadata": {},
   "outputs": [],
   "source": [
    "%run minhash.py"
   ]
  },
  {
   "cell_type": "markdown",
   "metadata": {},
   "source": [
    "# MinHash test"
   ]
  },
  {
   "cell_type": "code",
   "execution_count": 2,
   "metadata": {},
   "outputs": [],
   "source": [
    "from pyspark.ml.feature import CountVectorizer, MinHashLSH\n",
    "from pyspark.sql.functions import col"
   ]
  },
  {
   "cell_type": "code",
   "execution_count": 3,
   "metadata": {},
   "outputs": [
    {
     "name": "stdout",
     "output_type": "stream",
     "text": [
      "CPU times: user 4.73 s, sys: 1.33 s, total: 6.06 s\n",
      "Wall time: 6.03 s\n"
     ]
    }
   ],
   "source": [
    "%%time\n",
    "tag_comps_aggregated = pickle.load(open(\"../Data/Output/Tag_graph/tag_comps_aggregated.pkl\", \"rb\"))"
   ]
  },
  {
   "cell_type": "code",
   "execution_count": 4,
   "metadata": {},
   "outputs": [
    {
     "data": {
      "text/html": [
       "<div>\n",
       "<style scoped>\n",
       "    .dataframe tbody tr th:only-of-type {\n",
       "        vertical-align: middle;\n",
       "    }\n",
       "\n",
       "    .dataframe tbody tr th {\n",
       "        vertical-align: top;\n",
       "    }\n",
       "\n",
       "    .dataframe thead th {\n",
       "        text-align: right;\n",
       "    }\n",
       "</style>\n",
       "<table border=\"1\" class=\"dataframe\">\n",
       "  <thead>\n",
       "    <tr style=\"text-align: right;\">\n",
       "      <th></th>\n",
       "      <th>comp_int_id</th>\n",
       "      <th>type</th>\n",
       "      <th>tag_uuid</th>\n",
       "    </tr>\n",
       "  </thead>\n",
       "  <tbody>\n",
       "    <tr>\n",
       "      <th>0</th>\n",
       "      <td>{1671170, 5406730, 1179663, 3735567, 262169, 7...</td>\n",
       "      <td>1</td>\n",
       "      <td>a2f6e88e9a65510ba21ce44965ca7b36</td>\n",
       "    </tr>\n",
       "    <tr>\n",
       "      <th>1</th>\n",
       "      <td>{1671170, 3637262, 589847, 2129945, 851998, 16...</td>\n",
       "      <td>1</td>\n",
       "      <td>b5426c809798598cb5735dcb6a7c17c8</td>\n",
       "    </tr>\n",
       "    <tr>\n",
       "      <th>2</th>\n",
       "      <td>{2275332, 5376008, 1241096, 3989514, 5883914, ...</td>\n",
       "      <td>1</td>\n",
       "      <td>299f1692f39a54989bb7a754533d7e3e</td>\n",
       "    </tr>\n",
       "  </tbody>\n",
       "</table>\n",
       "</div>"
      ],
      "text/plain": [
       "                                         comp_int_id  type  \\\n",
       "0  {1671170, 5406730, 1179663, 3735567, 262169, 7...     1   \n",
       "1  {1671170, 3637262, 589847, 2129945, 851998, 16...     1   \n",
       "2  {2275332, 5376008, 1241096, 3989514, 5883914, ...     1   \n",
       "\n",
       "                           tag_uuid  \n",
       "0  a2f6e88e9a65510ba21ce44965ca7b36  \n",
       "1  b5426c809798598cb5735dcb6a7c17c8  \n",
       "2  299f1692f39a54989bb7a754533d7e3e  "
      ]
     },
     "execution_count": 4,
     "metadata": {},
     "output_type": "execute_result"
    }
   ],
   "source": [
    "tag_comps_aggregated.head(3)"
   ]
  },
  {
   "cell_type": "code",
   "execution_count": 5,
   "metadata": {},
   "outputs": [],
   "source": [
    "spark.conf.set(\"spark.sql.execution.arrow.enabled\", \"true\")"
   ]
  },
  {
   "cell_type": "code",
   "execution_count": 6,
   "metadata": {},
   "outputs": [],
   "source": [
    "tag_comps_aggregated[\"comp_int_id_list\"] = tag_comps_aggregated.comp_int_id.apply(lambda x: [str(w) for w in x])"
   ]
  },
  {
   "cell_type": "code",
   "execution_count": 7,
   "metadata": {},
   "outputs": [],
   "source": [
    "tag_comps_aggregated_spark = spark.createDataFrame(tag_comps_aggregated[[\"tag_uuid\", \"comp_int_id_list\"]])"
   ]
  },
  {
   "cell_type": "code",
   "execution_count": 8,
   "metadata": {},
   "outputs": [
    {
     "name": "stdout",
     "output_type": "stream",
     "text": [
      "+--------------------+--------------------+\n",
      "|            tag_uuid|    comp_int_id_list|\n",
      "+--------------------+--------------------+\n",
      "|a2f6e88e9a65510ba...|[1671170, 5406730...|\n",
      "|b5426c809798598cb...|[1671170, 3637262...|\n",
      "|299f1692f39a54989...|[2275332, 5376008...|\n",
      "+--------------------+--------------------+\n",
      "only showing top 3 rows\n",
      "\n"
     ]
    }
   ],
   "source": [
    "tag_comps_aggregated_spark.show(3)"
   ]
  },
  {
   "cell_type": "code",
   "execution_count": 12,
   "metadata": {},
   "outputs": [
    {
     "data": {
      "text/plain": [
       "DataFrame[tag_uuid: string, comp_int_id_list: array<string>]"
      ]
     },
     "execution_count": 12,
     "metadata": {},
     "output_type": "execute_result"
    }
   ],
   "source": [
    "tag_comps_aggregated_spark.persist()"
   ]
  },
  {
   "cell_type": "code",
   "execution_count": 9,
   "metadata": {},
   "outputs": [
    {
     "name": "stdout",
     "output_type": "stream",
     "text": [
      "Sparse Vectorizing\n",
      "CPU times: user 25.1 ms, sys: 4.43 ms, total: 29.6 ms\n",
      "Wall time: 52.9 s\n"
     ]
    }
   ],
   "source": [
    "%%time\n",
    "print(\"Sparse Vectorizing\")\n",
    "cv = CountVectorizer(inputCol=\"comp_int_id_list\", outputCol=\"sparse_vector\", minDF=1, minTF=1, vocabSize=7000000)\n",
    "cv_model = cv.fit(tag_comps_aggregated_spark)"
   ]
  },
  {
   "cell_type": "code",
   "execution_count": 10,
   "metadata": {},
   "outputs": [
    {
     "name": "stdout",
     "output_type": "stream",
     "text": [
      "+--------------------+--------------------+--------------------+\n",
      "|            tag_uuid|    comp_int_id_list|       sparse_vector|\n",
      "+--------------------+--------------------+--------------------+\n",
      "|a2f6e88e9a65510ba...|[1671170, 5406730...|(6663224,[104,189...|\n",
      "|b5426c809798598cb...|[1671170, 3637262...|(6663224,[26,104,...|\n",
      "|299f1692f39a54989...|[2275332, 5376008...|(6663224,[333,711...|\n",
      "+--------------------+--------------------+--------------------+\n",
      "only showing top 3 rows\n",
      "\n",
      "Fitting lsh model\n",
      "CPU times: user 53.4 ms, sys: 11.2 ms, total: 64.6 ms\n",
      "Wall time: 2min 1s\n"
     ]
    }
   ],
   "source": [
    "%%time\n",
    "tag_comps_sparse = cv_model.transform(tag_comps_aggregated_spark)\n",
    "tag_comps_sparse.show(3)\n",
    "mh = MinHashLSH(inputCol=\"sparse_vector\", outputCol=\"hashes\", seed=12345, numHashTables=256)\n",
    "print(\"Fitting lsh model\")\n",
    "mh_model = mh.fit(tag_comps_sparse)\n",
    "tag_comps_sparse.persist()"
   ]
  },
  {
   "cell_type": "code",
   "execution_count": null,
   "metadata": {},
   "outputs": [
    {
     "name": "stdout",
     "output_type": "stream",
     "text": [
      "Similarity cross join\n"
     ]
    }
   ],
   "source": [
    "%%time\n",
    "print(\"Similarity cross join\")\n",
    "result = mh_model.approxSimilarityJoin(tag_comps_sparse, tag_comps_sparse, 0.9, distCol=\"JaccardDistance\")\n",
    "result.show(3)\n",
    "result_clean = result.select(\n",
    "    col(\"datasetA.id\").alias(\"idA\"),\n",
    "    col(\"datasetB.id\").alias(\"idB\"),\n",
    "    col(\"JaccardDistance\"))\n",
    "result.clean.show(3)"
   ]
  },
  {
   "cell_type": "code",
   "execution_count": null,
   "metadata": {},
   "outputs": [],
   "source": []
  }
 ],
 "metadata": {
  "kernelspec": {
   "display_name": "Python 3",
   "language": "python",
   "name": "python3"
  },
  "language_info": {
   "codemirror_mode": {
    "name": "ipython",
    "version": 3
   },
   "file_extension": ".py",
   "mimetype": "text/x-python",
   "name": "python",
   "nbconvert_exporter": "python",
   "pygments_lexer": "ipython3",
   "version": "3.6.5"
  }
 },
 "nbformat": 4,
 "nbformat_minor": 2
}
