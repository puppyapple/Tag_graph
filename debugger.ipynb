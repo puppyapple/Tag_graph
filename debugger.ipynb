{
 "cells": [
  {
   "cell_type": "code",
   "execution_count": 1,
   "metadata": {},
   "outputs": [],
   "source": [
    "import pandas as pd\n",
    "import numpy as np\n",
    "import uuid\n",
    "import _pickle as pickle\n",
    "import os\n",
    "import configparser\n",
    "import pymysql\n",
    "import multiprocessing as mp\n",
    "import sys\n",
    "import uuid\n",
    "from functools import reduce\n",
    "from imp import reload\n",
    "from Code import data_generator_new\n",
    "from scipy.sparse import coo_matrix\n",
    "from sklearn import preprocessing\n",
    "from sklearn.preprocessing import MinMaxScaler"
   ]
  },
  {
   "cell_type": "code",
   "execution_count": null,
   "metadata": {},
   "outputs": [],
   "source": [
    "reload(data_generator_new)"
   ]
  },
  {
   "cell_type": "markdown",
   "metadata": {},
   "source": [
    "### 数据探查"
   ]
  },
  {
   "cell_type": "code",
   "execution_count": 2,
   "metadata": {},
   "outputs": [],
   "source": [
    "config = configparser.ConfigParser()\n",
    "config.read(\"../Data/Input/database_config/database.conf\")\n",
    "host = config['ASSESSMENT']['host']\n",
    "user = config['ASSESSMENT']['user']\n",
    "password = config['ASSESSMENT']['password']\n",
    "database = config['ASSESSMENT']['database']\n",
    "port = config['ASSESSMENT']['port']\n",
    "charset = config['ASSESSMENT']['charset']\n",
    "db = pymysql.connect(host=host, user=user, password=password, db=database, port=int(port), charset=charset)\n",
    "config.read(\"../Data/Input/Tag_graph/filter.conf\")\n",
    "ctag_keep_list = config['FILTER']['filter_list'].split(\",\")"
   ]
  },
  {
   "cell_type": "code",
   "execution_count": 3,
   "metadata": {},
   "outputs": [],
   "source": [
    "new_result = \"company_tag_info_latest0703\"\n",
    "old_result = \"company_online_tag_info_latest\"\n",
    "main_tags = \"comp_main_business_0726\""
   ]
  },
  {
   "cell_type": "code",
   "execution_count": 4,
   "metadata": {},
   "outputs": [],
   "source": [
    "sql_new_result = \"select comp_id, comp_full_name, label_name, classify_id, label_type, label_type_num, one_src_tags from %s\" % new_result\n",
    "sql_old_result = \"select comp_id, comp_full_name, label_name, main_business_type as 1.0 from %s\" % old_result\n",
    "sql_main_tags = \"select comp_id, comp_full_name, info_extra_tag, name_tag from %s\" % main_tags"
   ]
  },
  {
   "cell_type": "code",
   "execution_count": 5,
   "metadata": {},
   "outputs": [],
   "source": [
    "main_tags = pd.read_sql(sql_main_tags, con=db)"
   ]
  },
  {
   "cell_type": "code",
   "execution_count": 6,
   "metadata": {},
   "outputs": [],
   "source": [
    "main_tags.fillna(\"\", inplace=True)"
   ]
  },
  {
   "cell_type": "code",
   "execution_count": 8,
   "metadata": {},
   "outputs": [
    {
     "data": {
      "text/html": [
       "<div>\n",
       "<style scoped>\n",
       "    .dataframe tbody tr th:only-of-type {\n",
       "        vertical-align: middle;\n",
       "    }\n",
       "\n",
       "    .dataframe tbody tr th {\n",
       "        vertical-align: top;\n",
       "    }\n",
       "\n",
       "    .dataframe thead th {\n",
       "        text-align: right;\n",
       "    }\n",
       "</style>\n",
       "<table border=\"1\" class=\"dataframe\">\n",
       "  <thead>\n",
       "    <tr style=\"text-align: right;\">\n",
       "      <th></th>\n",
       "      <th>comp_id</th>\n",
       "      <th>comp_full_name</th>\n",
       "      <th>info_extra_tag</th>\n",
       "      <th>name_tag</th>\n",
       "    </tr>\n",
       "  </thead>\n",
       "  <tbody>\n",
       "    <tr>\n",
       "      <th>0</th>\n",
       "      <td>10000030532042217410</td>\n",
       "      <td>内蒙古引绰济辽供水有限责任公司</td>\n",
       "      <td>运营管理-建设-投资-工程\\n</td>\n",
       "      <td></td>\n",
       "    </tr>\n",
       "    <tr>\n",
       "      <th>1</th>\n",
       "      <td>10000030535836499710</td>\n",
       "      <td>武汉鹊人医疗科技服务有限公司</td>\n",
       "      <td>销售-Ⅱ类-医疗器械-安装\\n</td>\n",
       "      <td>医疗科技-医疗科技服务</td>\n",
       "    </tr>\n",
       "    <tr>\n",
       "      <th>2</th>\n",
       "      <td>1000003426482140130</td>\n",
       "      <td>北京华夏中青社区服务有限公司第一分公司</td>\n",
       "      <td></td>\n",
       "      <td>社区服务</td>\n",
       "    </tr>\n",
       "  </tbody>\n",
       "</table>\n",
       "</div>"
      ],
      "text/plain": [
       "                comp_id        comp_full_name   info_extra_tag     name_tag\n",
       "0  10000030532042217410       内蒙古引绰济辽供水有限责任公司  运营管理-建设-投资-工程\\n             \n",
       "1  10000030535836499710        武汉鹊人医疗科技服务有限公司  销售-Ⅱ类-医疗器械-安装\\n  医疗科技-医疗科技服务\n",
       "2   1000003426482140130   北京华夏中青社区服务有限公司第一分公司                          社区服务"
      ]
     },
     "execution_count": 8,
     "metadata": {},
     "output_type": "execute_result"
    }
   ],
   "source": [
    "main_tags.head(3)"
   ]
  },
  {
   "cell_type": "code",
   "execution_count": 9,
   "metadata": {},
   "outputs": [],
   "source": [
    "main_tags.info_extra_tag = main_tags.info_extra_tag.apply(lambda x: reduce(lambda m, n: m + n, x.strip().split(\"&\")))"
   ]
  },
  {
   "cell_type": "code",
   "execution_count": 10,
   "metadata": {},
   "outputs": [],
   "source": [
    "main_tags[\"tag_list\"] = main_tags[[\"comp_id\", \"info_extra_tag\", \"name_tag\"]] \\\n",
    "    .apply(lambda x: [(x[0], a, 1.0) for l in x[1].strip().split(\"&\") for m in l.split(\"#\") for a in m.split(\"-\")] +  \\\n",
    "           [(x[0], a, 2.0) for l in x[2].strip().split(\"&\") for n in l.split(\"#\") for a in n.split(\"-\")],  \\\n",
    "           axis=1)"
   ]
  },
  {
   "cell_type": "code",
   "execution_count": 11,
   "metadata": {},
   "outputs": [],
   "source": [
    "main_tags_flatted = pd.DataFrame([t for y in main_tags.tag_list for t in y], columns=[\"comp_id\", \"label_name\", \"main_type\"])"
   ]
  },
  {
   "cell_type": "code",
   "execution_count": 15,
   "metadata": {},
   "outputs": [],
   "source": [
    "pickle.dump(main_tags_flatted, open(\"main_tags_flatted.pkl\", \"wb\"))"
   ]
  },
  {
   "cell_type": "code",
   "execution_count": null,
   "metadata": {},
   "outputs": [],
   "source": []
  },
  {
   "cell_type": "markdown",
   "metadata": {},
   "source": [
    "### 普通标签和主营标签融合"
   ]
  },
  {
   "cell_type": "code",
   "execution_count": null,
   "metadata": {},
   "outputs": [],
   "source": [
    "comp_tag = pickle.load(open(\"../Data/Output/Tag_graph/v1/comp_tag.pkl\", \"rb\"))"
   ]
  },
  {
   "cell_type": "code",
   "execution_count": null,
   "metadata": {},
   "outputs": [],
   "source": [
    "main_tags_flatted = pickle.load(open(\"main_tags_flatted.pkl\", \"rb\"))"
   ]
  },
  {
   "cell_type": "code",
   "execution_count": null,
   "metadata": {},
   "outputs": [],
   "source": [
    "merged = comp_tag.merge(main_tags_flatted, on=[\"comp_id\", \"label_name\"], how=\"outer\")"
   ]
  },
  {
   "cell_type": "code",
   "execution_count": null,
   "metadata": {},
   "outputs": [],
   "source": [
    "len(merged)"
   ]
  },
  {
   "cell_type": "code",
   "execution_count": 9,
   "metadata": {},
   "outputs": [],
   "source": [
    "pickle.dump(merged, open(\"comp_tag_merged.pkl\", \"wb\"))"
   ]
  },
  {
   "cell_type": "markdown",
   "metadata": {},
   "source": [
    "### 命中统计"
   ]
  },
  {
   "cell_type": "code",
   "execution_count": 2,
   "metadata": {},
   "outputs": [],
   "source": [
    "merged = pickle.load(open(\"comp_tag_merged.pkl\", \"rb\"))"
   ]
  },
  {
   "cell_type": "code",
   "execution_count": 3,
   "metadata": {},
   "outputs": [],
   "source": [
    "word_count = merged.label_name.value_counts().to_frame()"
   ]
  },
  {
   "cell_type": "code",
   "execution_count": 4,
   "metadata": {},
   "outputs": [],
   "source": [
    "word_count.index.name = \"label_name\"\n",
    "word_count.rename(columns={\"label_name\": \"label_count\"}, inplace=True)\n",
    "word_count.reset_index(inplace=True)"
   ]
  },
  {
   "cell_type": "code",
   "execution_count": 5,
   "metadata": {},
   "outputs": [
    {
     "data": {
      "text/plain": [
       "label_name     64412\n",
       "label_count    64412\n",
       "dtype: int64"
      ]
     },
     "execution_count": 5,
     "metadata": {},
     "output_type": "execute_result"
    }
   ],
   "source": [
    "word_count[word_count.label_count > 10].count()"
   ]
  },
  {
   "cell_type": "code",
   "execution_count": 6,
   "metadata": {},
   "outputs": [
    {
     "data": {
      "text/html": [
       "<div>\n",
       "<style scoped>\n",
       "    .dataframe tbody tr th:only-of-type {\n",
       "        vertical-align: middle;\n",
       "    }\n",
       "\n",
       "    .dataframe tbody tr th {\n",
       "        vertical-align: top;\n",
       "    }\n",
       "\n",
       "    .dataframe thead th {\n",
       "        text-align: right;\n",
       "    }\n",
       "</style>\n",
       "<table border=\"1\" class=\"dataframe\">\n",
       "  <thead>\n",
       "    <tr style=\"text-align: right;\">\n",
       "      <th></th>\n",
       "      <th>label_name</th>\n",
       "      <th>label_count</th>\n",
       "    </tr>\n",
       "  </thead>\n",
       "  <tbody>\n",
       "    <tr>\n",
       "      <th>0</th>\n",
       "      <td>销售</td>\n",
       "      <td>596265</td>\n",
       "    </tr>\n",
       "    <tr>\n",
       "      <th>1</th>\n",
       "      <td>商务服务</td>\n",
       "      <td>490793</td>\n",
       "    </tr>\n",
       "    <tr>\n",
       "      <th>2</th>\n",
       "      <td>生产</td>\n",
       "      <td>254659</td>\n",
       "    </tr>\n",
       "    <tr>\n",
       "      <th>3</th>\n",
       "      <td>房产家装</td>\n",
       "      <td>248687</td>\n",
       "    </tr>\n",
       "    <tr>\n",
       "      <th>4</th>\n",
       "      <td>其他商务服务业</td>\n",
       "      <td>220498</td>\n",
       "    </tr>\n",
       "    <tr>\n",
       "      <th>5</th>\n",
       "      <td>新型材料产业</td>\n",
       "      <td>213873</td>\n",
       "    </tr>\n",
       "    <tr>\n",
       "      <th>6</th>\n",
       "      <td>房地产开发</td>\n",
       "      <td>196200</td>\n",
       "    </tr>\n",
       "    <tr>\n",
       "      <th>7</th>\n",
       "      <td>五金交电</td>\n",
       "      <td>188811</td>\n",
       "    </tr>\n",
       "    <tr>\n",
       "      <th>8</th>\n",
       "      <td>加工</td>\n",
       "      <td>184362</td>\n",
       "    </tr>\n",
       "    <tr>\n",
       "      <th>9</th>\n",
       "      <td>企业</td>\n",
       "      <td>179313</td>\n",
       "    </tr>\n",
       "    <tr>\n",
       "      <th>10</th>\n",
       "      <td>制品厂</td>\n",
       "      <td>177258</td>\n",
       "    </tr>\n",
       "    <tr>\n",
       "      <th>11</th>\n",
       "      <td>建筑材料</td>\n",
       "      <td>176270</td>\n",
       "    </tr>\n",
       "    <tr>\n",
       "      <th>12</th>\n",
       "      <td>设计</td>\n",
       "      <td>172024</td>\n",
       "    </tr>\n",
       "    <tr>\n",
       "      <th>13</th>\n",
       "      <td>智能网联汽车</td>\n",
       "      <td>169221</td>\n",
       "    </tr>\n",
       "    <tr>\n",
       "      <th>14</th>\n",
       "      <td>生产加工</td>\n",
       "      <td>168784</td>\n",
       "    </tr>\n",
       "    <tr>\n",
       "      <th>15</th>\n",
       "      <td>电子产品</td>\n",
       "      <td>163619</td>\n",
       "    </tr>\n",
       "    <tr>\n",
       "      <th>16</th>\n",
       "      <td>物业管理</td>\n",
       "      <td>161270</td>\n",
       "    </tr>\n",
       "    <tr>\n",
       "      <th>17</th>\n",
       "      <td>生物科学</td>\n",
       "      <td>160087</td>\n",
       "    </tr>\n",
       "    <tr>\n",
       "      <th>18</th>\n",
       "      <td>大客户</td>\n",
       "      <td>158190</td>\n",
       "    </tr>\n",
       "    <tr>\n",
       "      <th>19</th>\n",
       "      <td>生物医药</td>\n",
       "      <td>147894</td>\n",
       "    </tr>\n",
       "    <tr>\n",
       "      <th>20</th>\n",
       "      <td>装饰设计</td>\n",
       "      <td>147507</td>\n",
       "    </tr>\n",
       "    <tr>\n",
       "      <th>21</th>\n",
       "      <td>易经</td>\n",
       "      <td>145726</td>\n",
       "    </tr>\n",
       "    <tr>\n",
       "      <th>22</th>\n",
       "      <td>制作</td>\n",
       "      <td>143027</td>\n",
       "    </tr>\n",
       "    <tr>\n",
       "      <th>23</th>\n",
       "      <td>营销</td>\n",
       "      <td>140640</td>\n",
       "    </tr>\n",
       "    <tr>\n",
       "      <th>24</th>\n",
       "      <td>零售</td>\n",
       "      <td>137000</td>\n",
       "    </tr>\n",
       "    <tr>\n",
       "      <th>25</th>\n",
       "      <td>信息咨询</td>\n",
       "      <td>132393</td>\n",
       "    </tr>\n",
       "    <tr>\n",
       "      <th>26</th>\n",
       "      <td>化工产品</td>\n",
       "      <td>131836</td>\n",
       "    </tr>\n",
       "    <tr>\n",
       "      <th>27</th>\n",
       "      <td>汽车交通</td>\n",
       "      <td>131665</td>\n",
       "    </tr>\n",
       "    <tr>\n",
       "      <th>28</th>\n",
       "      <td>广告业</td>\n",
       "      <td>129538</td>\n",
       "    </tr>\n",
       "    <tr>\n",
       "      <th>29</th>\n",
       "      <td>代理</td>\n",
       "      <td>129109</td>\n",
       "    </tr>\n",
       "    <tr>\n",
       "      <th>...</th>\n",
       "      <td>...</td>\n",
       "      <td>...</td>\n",
       "    </tr>\n",
       "    <tr>\n",
       "      <th>133540</th>\n",
       "      <td>胶粘剂供销</td>\n",
       "      <td>1</td>\n",
       "    </tr>\n",
       "    <tr>\n",
       "      <th>133541</th>\n",
       "      <td>导热界面材料IC</td>\n",
       "      <td>1</td>\n",
       "    </tr>\n",
       "    <tr>\n",
       "      <th>133542</th>\n",
       "      <td>天合小额贷款</td>\n",
       "      <td>1</td>\n",
       "    </tr>\n",
       "    <tr>\n",
       "      <th>133543</th>\n",
       "      <td>二氧化碳干冰</td>\n",
       "      <td>1</td>\n",
       "    </tr>\n",
       "    <tr>\n",
       "      <th>133544</th>\n",
       "      <td>汽车配件IT</td>\n",
       "      <td>1</td>\n",
       "    </tr>\n",
       "    <tr>\n",
       "      <th>133545</th>\n",
       "      <td>无线网络电信运营商</td>\n",
       "      <td>1</td>\n",
       "    </tr>\n",
       "    <tr>\n",
       "      <th>133546</th>\n",
       "      <td>资产评估专家</td>\n",
       "      <td>1</td>\n",
       "    </tr>\n",
       "    <tr>\n",
       "      <th>133547</th>\n",
       "      <td>轨道交通无线通信</td>\n",
       "      <td>1</td>\n",
       "    </tr>\n",
       "    <tr>\n",
       "      <th>133548</th>\n",
       "      <td>软件开发自助式</td>\n",
       "      <td>1</td>\n",
       "    </tr>\n",
       "    <tr>\n",
       "      <th>133531</th>\n",
       "      <td>医疗器械新项目</td>\n",
       "      <td>1</td>\n",
       "    </tr>\n",
       "    <tr>\n",
       "      <th>133530</th>\n",
       "      <td>资深互联网专家</td>\n",
       "      <td>1</td>\n",
       "    </tr>\n",
       "    <tr>\n",
       "      <th>133529</th>\n",
       "      <td>镁合金设备制造</td>\n",
       "      <td>1</td>\n",
       "    </tr>\n",
       "    <tr>\n",
       "      <th>133519</th>\n",
       "      <td>连锁健身中心</td>\n",
       "      <td>1</td>\n",
       "    </tr>\n",
       "    <tr>\n",
       "      <th>133512</th>\n",
       "      <td>防腐涂料环氧树脂胶粘剂</td>\n",
       "      <td>1</td>\n",
       "    </tr>\n",
       "    <tr>\n",
       "      <th>133513</th>\n",
       "      <td>氧化铝过滤设备</td>\n",
       "      <td>1</td>\n",
       "    </tr>\n",
       "    <tr>\n",
       "      <th>133514</th>\n",
       "      <td>医疗器械西药制剂</td>\n",
       "      <td>1</td>\n",
       "    </tr>\n",
       "    <tr>\n",
       "      <th>133515</th>\n",
       "      <td>职业培训教育服务</td>\n",
       "      <td>1</td>\n",
       "    </tr>\n",
       "    <tr>\n",
       "      <th>133516</th>\n",
       "      <td>信息系统集成服务电子商务</td>\n",
       "      <td>1</td>\n",
       "    </tr>\n",
       "    <tr>\n",
       "      <th>133517</th>\n",
       "      <td>海关监管整车</td>\n",
       "      <td>1</td>\n",
       "    </tr>\n",
       "    <tr>\n",
       "      <th>133518</th>\n",
       "      <td>营销策略设计虚拟现实</td>\n",
       "      <td>1</td>\n",
       "    </tr>\n",
       "    <tr>\n",
       "      <th>133520</th>\n",
       "      <td>玻璃艺品厂</td>\n",
       "      <td>1</td>\n",
       "    </tr>\n",
       "    <tr>\n",
       "      <th>133528</th>\n",
       "      <td>医药物流食品药品</td>\n",
       "      <td>1</td>\n",
       "    </tr>\n",
       "    <tr>\n",
       "      <th>133521</th>\n",
       "      <td>工艺品小百货</td>\n",
       "      <td>1</td>\n",
       "    </tr>\n",
       "    <tr>\n",
       "      <th>133522</th>\n",
       "      <td>社交网络社交生活</td>\n",
       "      <td>1</td>\n",
       "    </tr>\n",
       "    <tr>\n",
       "      <th>133523</th>\n",
       "      <td>电商转运</td>\n",
       "      <td>1</td>\n",
       "    </tr>\n",
       "    <tr>\n",
       "      <th>133524</th>\n",
       "      <td>新型材料产业矿山工程新材料</td>\n",
       "      <td>1</td>\n",
       "    </tr>\n",
       "    <tr>\n",
       "      <th>133525</th>\n",
       "      <td>售后服务代理</td>\n",
       "      <td>1</td>\n",
       "    </tr>\n",
       "    <tr>\n",
       "      <th>133526</th>\n",
       "      <td>制作媒体代理</td>\n",
       "      <td>1</td>\n",
       "    </tr>\n",
       "    <tr>\n",
       "      <th>133527</th>\n",
       "      <td>塑料脱水</td>\n",
       "      <td>1</td>\n",
       "    </tr>\n",
       "    <tr>\n",
       "      <th>161813</th>\n",
       "      <td>医疗设备数码周边</td>\n",
       "      <td>1</td>\n",
       "    </tr>\n",
       "  </tbody>\n",
       "</table>\n",
       "<p>161814 rows × 2 columns</p>\n",
       "</div>"
      ],
      "text/plain": [
       "           label_name  label_count\n",
       "0                  销售       596265\n",
       "1                商务服务       490793\n",
       "2                  生产       254659\n",
       "3                房产家装       248687\n",
       "4             其他商务服务业       220498\n",
       "5              新型材料产业       213873\n",
       "6               房地产开发       196200\n",
       "7                五金交电       188811\n",
       "8                  加工       184362\n",
       "9                  企业       179313\n",
       "10                制品厂       177258\n",
       "11               建筑材料       176270\n",
       "12                 设计       172024\n",
       "13             智能网联汽车       169221\n",
       "14               生产加工       168784\n",
       "15               电子产品       163619\n",
       "16               物业管理       161270\n",
       "17               生物科学       160087\n",
       "18                大客户       158190\n",
       "19               生物医药       147894\n",
       "20               装饰设计       147507\n",
       "21                 易经       145726\n",
       "22                 制作       143027\n",
       "23                 营销       140640\n",
       "24                 零售       137000\n",
       "25               信息咨询       132393\n",
       "26               化工产品       131836\n",
       "27               汽车交通       131665\n",
       "28                广告业       129538\n",
       "29                 代理       129109\n",
       "...               ...          ...\n",
       "133540          胶粘剂供销            1\n",
       "133541       导热界面材料IC            1\n",
       "133542         天合小额贷款            1\n",
       "133543         二氧化碳干冰            1\n",
       "133544         汽车配件IT            1\n",
       "133545      无线网络电信运营商            1\n",
       "133546         资产评估专家            1\n",
       "133547       轨道交通无线通信            1\n",
       "133548        软件开发自助式            1\n",
       "133531        医疗器械新项目            1\n",
       "133530        资深互联网专家            1\n",
       "133529        镁合金设备制造            1\n",
       "133519         连锁健身中心            1\n",
       "133512    防腐涂料环氧树脂胶粘剂            1\n",
       "133513        氧化铝过滤设备            1\n",
       "133514       医疗器械西药制剂            1\n",
       "133515       职业培训教育服务            1\n",
       "133516   信息系统集成服务电子商务            1\n",
       "133517         海关监管整车            1\n",
       "133518     营销策略设计虚拟现实            1\n",
       "133520          玻璃艺品厂            1\n",
       "133528       医药物流食品药品            1\n",
       "133521         工艺品小百货            1\n",
       "133522       社交网络社交生活            1\n",
       "133523           电商转运            1\n",
       "133524  新型材料产业矿山工程新材料            1\n",
       "133525         售后服务代理            1\n",
       "133526         制作媒体代理            1\n",
       "133527           塑料脱水            1\n",
       "161813       医疗设备数码周边            1\n",
       "\n",
       "[161814 rows x 2 columns]"
      ]
     },
     "execution_count": 6,
     "metadata": {},
     "output_type": "execute_result"
    }
   ],
   "source": [
    "word_count.sort_values(by=\"label_count\", ascending=False)"
   ]
  },
  {
   "cell_type": "markdown",
   "metadata": {},
   "source": [
    "### 标签和公司编码"
   ]
  },
  {
   "cell_type": "code",
   "execution_count": 9,
   "metadata": {},
   "outputs": [],
   "source": [
    "merged.fillna({\"type\": 1.0, \"count_comps\": 1.0, \"main_type\": 0.0}, inplace=True)"
   ]
  },
  {
   "cell_type": "code",
   "execution_count": 8,
   "metadata": {},
   "outputs": [
    {
     "data": {
      "text/plain": [
       "24752500"
      ]
     },
     "execution_count": 8,
     "metadata": {},
     "output_type": "execute_result"
    }
   ],
   "source": [
    "sum(merged.type.isnull())"
   ]
  },
  {
   "cell_type": "code",
   "execution_count": 17,
   "metadata": {},
   "outputs": [
    {
     "data": {
      "text/html": [
       "<div>\n",
       "<style scoped>\n",
       "    .dataframe tbody tr th:only-of-type {\n",
       "        vertical-align: middle;\n",
       "    }\n",
       "\n",
       "    .dataframe tbody tr th {\n",
       "        vertical-align: top;\n",
       "    }\n",
       "\n",
       "    .dataframe thead th {\n",
       "        text-align: right;\n",
       "    }\n",
       "</style>\n",
       "<table border=\"1\" class=\"dataframe\">\n",
       "  <thead>\n",
       "    <tr style=\"text-align: right;\">\n",
       "      <th></th>\n",
       "      <th>comp_id</th>\n",
       "      <th>label_name</th>\n",
       "      <th>type</th>\n",
       "      <th>count_comps</th>\n",
       "      <th>tag_uuid</th>\n",
       "      <th>main_type</th>\n",
       "      <th>comp_int_id</th>\n",
       "    </tr>\n",
       "  </thead>\n",
       "  <tbody>\n",
       "    <tr>\n",
       "      <th>0</th>\n",
       "      <td>10000030532042217410</td>\n",
       "      <td>农业电子商务</td>\n",
       "      <td>0.0</td>\n",
       "      <td>1.0</td>\n",
       "      <td>0c7c86960dcc575b9a9b9831ed1aeaad</td>\n",
       "      <td>0.0</td>\n",
       "      <td>0</td>\n",
       "    </tr>\n",
       "    <tr>\n",
       "      <th>1</th>\n",
       "      <td>10000030532042217410</td>\n",
       "      <td>农产品生产</td>\n",
       "      <td>0.0</td>\n",
       "      <td>1.0</td>\n",
       "      <td>06af12bdfd38563ea6dd653ea85dc7c7</td>\n",
       "      <td>0.0</td>\n",
       "      <td>0</td>\n",
       "    </tr>\n",
       "    <tr>\n",
       "      <th>2</th>\n",
       "      <td>10000030532042217410</td>\n",
       "      <td>渔业生产</td>\n",
       "      <td>0.0</td>\n",
       "      <td>1.0</td>\n",
       "      <td>3083285f99d850a6b4fdce8207ccd537</td>\n",
       "      <td>0.0</td>\n",
       "      <td>0</td>\n",
       "    </tr>\n",
       "  </tbody>\n",
       "</table>\n",
       "</div>"
      ],
      "text/plain": [
       "                comp_id label_name  type  count_comps  \\\n",
       "0  10000030532042217410     农业电子商务   0.0          1.0   \n",
       "1  10000030532042217410      农产品生产   0.0          1.0   \n",
       "2  10000030532042217410       渔业生产   0.0          1.0   \n",
       "\n",
       "                           tag_uuid  main_type  comp_int_id  \n",
       "0  0c7c86960dcc575b9a9b9831ed1aeaad        0.0            0  \n",
       "1  06af12bdfd38563ea6dd653ea85dc7c7        0.0            0  \n",
       "2  3083285f99d850a6b4fdce8207ccd537        0.0            0  "
      ]
     },
     "execution_count": 17,
     "metadata": {},
     "output_type": "execute_result"
    }
   ],
   "source": [
    "merged.head(3)"
   ]
  },
  {
   "cell_type": "code",
   "execution_count": 12,
   "metadata": {},
   "outputs": [],
   "source": [
    "merged.drop([\"comp_int_id\"], axis=1, inplace=True)"
   ]
  },
  {
   "cell_type": "code",
   "execution_count": 13,
   "metadata": {},
   "outputs": [],
   "source": [
    "comp_id_dict = merged[\"comp_id\"].drop_duplicates().reset_index(drop=True)\n",
    "comp_id_dict = comp_id_dict.reset_index()\n",
    "comp_id_dict.rename(index=str, columns={\"index\": \"comp_int_id\"}, inplace=True)"
   ]
  },
  {
   "cell_type": "code",
   "execution_count": 16,
   "metadata": {},
   "outputs": [],
   "source": [
    "merged = merged.merge(comp_id_dict, how=\"left\", left_on=\"comp_id\", right_on=\"comp_id\")"
   ]
  },
  {
   "cell_type": "code",
   "execution_count": null,
   "metadata": {},
   "outputs": [],
   "source": []
  },
  {
   "cell_type": "code",
   "execution_count": 18,
   "metadata": {},
   "outputs": [],
   "source": [
    "nctag_filter_num=(10, 1000000)"
   ]
  },
  {
   "cell_type": "code",
   "execution_count": null,
   "metadata": {},
   "outputs": [],
   "source": [
    "tag_comps_aggregated = merged.groupby(\"label_name\") \\\n",
    "    .agg({\"comp_int_id\": lambda x: set(x), \"count_comps\": \"count\", \"type\": lambda x: x[0], \"main_type\": lambda x: x[0]}).reset_index()"
   ]
  },
  {
   "cell_type": "code",
   "execution_count": null,
   "metadata": {},
   "outputs": [],
   "source": [
    "tag_comps_aggregated = tag_comps_aggregated[((tag_comps_aggregated.count_comps > nctag_filter_num[0]) \\\n",
    "                                             & (tag_comps_aggregated.count_comps < nctag_filter_num[1])) \\\n",
    "                                             | (tag_comps_aggregated.main != 0)]\\\n",
    "                                             [[\"label_name\", \"comp_int_id\", \"type\"]].reset_index(drop=True)"
   ]
  },
  {
   "cell_type": "code",
   "execution_count": null,
   "metadata": {},
   "outputs": [],
   "source": []
  },
  {
   "cell_type": "code",
   "execution_count": null,
   "metadata": {},
   "outputs": [],
   "source": []
  },
  {
   "cell_type": "markdown",
   "metadata": {},
   "source": [
    "### 检测comp_tag函数"
   ]
  },
  {
   "cell_type": "code",
   "execution_count": null,
   "metadata": {},
   "outputs": [],
   "source": [
    "data_generator_new.comp_tag()"
   ]
  },
  {
   "cell_type": "markdown",
   "metadata": {},
   "source": [
    "### 检测data_aggregator函数，返回概念、非概念各自聚合公司的结果，以及公司标签关联、公司总数"
   ]
  },
  {
   "cell_type": "code",
   "execution_count": null,
   "metadata": {},
   "outputs": [],
   "source": [
    "data_generator_new.data_aggregator()"
   ]
  },
  {
   "cell_type": "markdown",
   "metadata": {},
   "source": [
    "### 计算公司标签全集"
   ]
  },
  {
   "cell_type": "code",
   "execution_count": null,
   "metadata": {},
   "outputs": [],
   "source": [
    "data_generator_new.properties()"
   ]
  },
  {
   "cell_type": "markdown",
   "metadata": {},
   "source": [
    "### 计算标签关联"
   ]
  },
  {
   "cell_type": "code",
   "execution_count": null,
   "metadata": {},
   "outputs": [],
   "source": [
    "data_generator_new.tag_tag4(batch_size=4, process_num=8)"
   ]
  },
  {
   "cell_type": "markdown",
   "metadata": {},
   "source": [
    "### 处理成导入mysql和neo4j的文件"
   ]
  },
  {
   "cell_type": "code",
   "execution_count": null,
   "metadata": {},
   "outputs": [],
   "source": [
    "data_generator_new.neo4j_merge()"
   ]
  },
  {
   "cell_type": "markdown",
   "metadata": {},
   "source": [
    "### 导入图数据库"
   ]
  },
  {
   "cell_type": "code",
   "execution_count": null,
   "metadata": {},
   "outputs": [],
   "source": [
    "data_generator_new.to_graph_database()"
   ]
  },
  {
   "cell_type": "code",
   "execution_count": null,
   "metadata": {},
   "outputs": [],
   "source": [
    "spark"
   ]
  },
  {
   "cell_type": "code",
   "execution_count": null,
   "metadata": {},
   "outputs": [],
   "source": [
    "sc"
   ]
  },
  {
   "cell_type": "markdown",
   "metadata": {},
   "source": [
    "### 全流程测试"
   ]
  },
  {
   "cell_type": "code",
   "execution_count": null,
   "metadata": {},
   "outputs": [],
   "source": [
    "!python Code/pipline_new.py"
   ]
  },
  {
   "cell_type": "code",
   "execution_count": null,
   "metadata": {},
   "outputs": [],
   "source": [
    "1"
   ]
  },
  {
   "cell_type": "markdown",
   "metadata": {},
   "source": [
    "### 智能网联汽车关联的top1000概念非概念标签"
   ]
  },
  {
   "cell_type": "code",
   "execution_count": null,
   "metadata": {},
   "outputs": [],
   "source": [
    "relations = pd.read_csv(\"../Data/Output/Tag_graph/all_relations.csv\", header=None)"
   ]
  },
  {
   "cell_type": "code",
   "execution_count": null,
   "metadata": {},
   "outputs": [],
   "source": [
    "relations.columns = [\"src_id\", \"target_id\", \"rel_value\", \"rel_type\"]"
   ]
  },
  {
   "cell_type": "code",
   "execution_count": null,
   "metadata": {},
   "outputs": [],
   "source": [
    "relations.head(1)"
   ]
  },
  {
   "cell_type": "code",
   "execution_count": null,
   "metadata": {},
   "outputs": [],
   "source": [
    "tag_dict = pickle.load(open(\"../Data/Output/Tag_graph/tag_dict.pkl\", \"rb\"))\n",
    "tag_dict_reverse = dict(zip(tag_dict.values(), tag_dict.keys()))"
   ]
  },
  {
   "cell_type": "code",
   "execution_count": null,
   "metadata": {},
   "outputs": [],
   "source": [
    "target_tag = tag_dict.get(\"智能网联汽车\")"
   ]
  },
  {
   "cell_type": "code",
   "execution_count": null,
   "metadata": {},
   "outputs": [],
   "source": [
    "target_tag"
   ]
  },
  {
   "cell_type": "code",
   "execution_count": null,
   "metadata": {},
   "outputs": [],
   "source": [
    "linked_ctag_top_1000 = relations[(relations.src_id == target_tag) & (relations.rel_type == \"ctag_ctag\")].sort_values(by=\"rel_value\", ascending=False)"
   ]
  },
  {
   "cell_type": "code",
   "execution_count": null,
   "metadata": {},
   "outputs": [],
   "source": [
    "len(linked_ctag_top_1000)"
   ]
  },
  {
   "cell_type": "code",
   "execution_count": null,
   "metadata": {},
   "outputs": [],
   "source": [
    "_linked_ctag_top_1000 = relations[(relations.src_id == target_tag) & (relations.rel_type == \"ctag_ctag\")].sort_values(by=\"rel_value\", ascending=False)"
   ]
  },
  {
   "cell_type": "code",
   "execution_count": null,
   "metadata": {},
   "outputs": [],
   "source": [
    "len(_linked_ctag_top_1000)"
   ]
  },
  {
   "cell_type": "code",
   "execution_count": null,
   "metadata": {},
   "outputs": [],
   "source": [
    "linked_nctag_top_1000 = relations[(relations.target_id == target_tag) & (relations.rel_type == \"ctag_ctag\")].sort_values(by=\"rel_value\", ascending=False)[:1000]"
   ]
  },
  {
   "cell_type": "code",
   "execution_count": null,
   "metadata": {},
   "outputs": [],
   "source": [
    "len(linked_nctag_top_1000)"
   ]
  },
  {
   "cell_type": "code",
   "execution_count": null,
   "metadata": {},
   "outputs": [],
   "source": [
    "_linked_nctag_top_1000 = relations[(relations.src_id == target_tag) & (relations.rel_type == \"ctag_ntag\")].sort_values(by=\"rel_value\", ascending=False)[:1000]"
   ]
  },
  {
   "cell_type": "code",
   "execution_count": null,
   "metadata": {},
   "outputs": [],
   "source": [
    "linked_ctag_top_1000[\"target_tag_name\"] = linked_ctag_top_1000.targe_id.apply(lambda x: tag_dict_reverse.get(x))[:1000]"
   ]
  },
  {
   "cell_type": "code",
   "execution_count": null,
   "metadata": {},
   "outputs": [],
   "source": [
    "linked_nctag_top_1000[\"target_tag_name\"] = linked_nctag_top_1000.targe_id.apply(lambda x: tag_dict_reverse.get(x))[:1000]"
   ]
  },
  {
   "cell_type": "code",
   "execution_count": null,
   "metadata": {},
   "outputs": [],
   "source": []
  },
  {
   "cell_type": "code",
   "execution_count": null,
   "metadata": {},
   "outputs": [],
   "source": []
  },
  {
   "cell_type": "code",
   "execution_count": null,
   "metadata": {},
   "outputs": [],
   "source": []
  },
  {
   "cell_type": "code",
   "execution_count": null,
   "metadata": {},
   "outputs": [],
   "source": []
  }
 ],
 "metadata": {
  "kernelspec": {
   "display_name": "Python 3",
   "language": "python",
   "name": "python3"
  },
  "language_info": {
   "codemirror_mode": {
    "name": "ipython",
    "version": 3
   },
   "file_extension": ".py",
   "mimetype": "text/x-python",
   "name": "python",
   "nbconvert_exporter": "python",
   "pygments_lexer": "ipython3",
   "version": "3.6.5"
  }
 },
 "nbformat": 4,
 "nbformat_minor": 2
}
