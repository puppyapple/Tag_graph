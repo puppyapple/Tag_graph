{
 "cells": [
  {
   "cell_type": "code",
   "execution_count": 1,
   "metadata": {},
   "outputs": [],
   "source": [
    "import pandas as pd\n",
    "import numpy as np\n",
    "import uuid\n",
    "import pickle\n",
    "import os\n",
    "import configparser\n",
    "import pymysql\n",
    "import multiprocessing as mp\n",
    "import sys\n",
    "from imp import reload\n",
    "# from pyspark.ml.fpm import FPGrowth\n",
    "from Code import data_generator_new\n",
    "from sklearn import preprocessing\n",
    "from sklearn.preprocessing import MinMaxScaler"
   ]
  },
  {
   "cell_type": "code",
   "execution_count": 2,
   "metadata": {},
   "outputs": [
    {
     "data": {
      "text/plain": [
       "<module 'Code.data_generator_new' from '/home/zijun.wu/Tag_graph/Code/data_generator_new.py'>"
      ]
     },
     "execution_count": 2,
     "metadata": {},
     "output_type": "execute_result"
    }
   ],
   "source": [
    "reload(data_generator_new)"
   ]
  },
  {
   "cell_type": "markdown",
   "metadata": {},
   "source": [
    "### 数据探查"
   ]
  },
  {
   "cell_type": "code",
   "execution_count": null,
   "metadata": {},
   "outputs": [],
   "source": [
    "data_raw = pd.read_sql(\"select comp_id, label_name, classify_id, label_type, label_type_num from company_tag_info_latest0703\", con=data_generator_new.db)"
   ]
  },
  {
   "cell_type": "code",
   "execution_count": null,
   "metadata": {},
   "outputs": [],
   "source": [
    "len(data_raw)"
   ]
  },
  {
   "cell_type": "code",
   "execution_count": null,
   "metadata": {},
   "outputs": [],
   "source": [
    "comp_id_dict = data_raw.comp_id.drop_duplicates().reset_index(drop=True).reset_index() \\\n",
    "    .rename(index=str, columns={\"index\": \"comp_int_id\"})\n",
    "data_raw = data_raw.merge(comp_id_dict, how=\"left\", left_on=\"comp_id\", right_on=\"comp_id\")"
   ]
  },
  {
   "cell_type": "code",
   "execution_count": null,
   "metadata": {},
   "outputs": [],
   "source": [
    "data_raw.head(3)"
   ]
  },
  {
   "cell_type": "code",
   "execution_count": null,
   "metadata": {},
   "outputs": [],
   "source": [
    "ctag_table = data_raw[data_raw.classify_id != 4]"
   ]
  },
  {
   "cell_type": "code",
   "execution_count": null,
   "metadata": {},
   "outputs": [],
   "source": [
    "ctag_agg = nctag_table.groupby(\"label_name\").agg({\"comp_id\": \"count\"})"
   ]
  },
  {
   "cell_type": "code",
   "execution_count": null,
   "metadata": {},
   "outputs": [],
   "source": [
    "ctag_agg.sort_values(by=\"comp_id\", ascending=False)"
   ]
  },
  {
   "cell_type": "code",
   "execution_count": null,
   "metadata": {},
   "outputs": [],
   "source": [
    "nctag_table = data_raw[data_raw.classify_id == 4]"
   ]
  },
  {
   "cell_type": "code",
   "execution_count": null,
   "metadata": {},
   "outputs": [],
   "source": [
    "nctag_agg = nctag_table.groupby(\"label_name\").agg({\"comp_id\": \"count\"}).reset_index()"
   ]
  },
  {
   "cell_type": "code",
   "execution_count": null,
   "metadata": {},
   "outputs": [],
   "source": [
    "nctag_agg[\"word_len\"] = nctag_agg.label_name.apply(lambda x: len(str(x)))"
   ]
  },
  {
   "cell_type": "code",
   "execution_count": null,
   "metadata": {},
   "outputs": [],
   "source": [
    "nctag_agg.sort_values(by=\"comp_id\", ascending=False).head(100)"
   ]
  },
  {
   "cell_type": "code",
   "execution_count": null,
   "metadata": {},
   "outputs": [],
   "source": [
    "nctag_agg[nctag_agg.comp_id >= 150].groupby(\"word_len\").agg({\"label_name\": \"count\"})"
   ]
  },
  {
   "cell_type": "code",
   "execution_count": null,
   "metadata": {},
   "outputs": [],
   "source": [
    "nctag_agg[(nctag_agg.comp_id >= 150) & (nctag_agg.word_len > 3)]"
   ]
  },
  {
   "cell_type": "code",
   "execution_count": null,
   "metadata": {},
   "outputs": [],
   "source": [
    "nctag_to_keep = nctag_agg[(nctag_agg.comp_id >= 150) & (nctag_agg.comp_id <= 1000000) & (nctag_agg.word_len >= 4)]"
   ]
  },
  {
   "cell_type": "code",
   "execution_count": null,
   "metadata": {},
   "outputs": [],
   "source": [
    "nctag_to_keep"
   ]
  },
  {
   "cell_type": "code",
   "execution_count": null,
   "metadata": {},
   "outputs": [],
   "source": [
    "nctag_table = nctag_table[nctag_table.label_name.isin(nctag_to_keep.label_name)]"
   ]
  },
  {
   "cell_type": "code",
   "execution_count": null,
   "metadata": {},
   "outputs": [],
   "source": [
    "nctag_table.head(2)"
   ]
  },
  {
   "cell_type": "code",
   "execution_count": null,
   "metadata": {},
   "outputs": [],
   "source": [
    "ctag_table.head(2)"
   ]
  },
  {
   "cell_type": "code",
   "execution_count": null,
   "metadata": {},
   "outputs": [],
   "source": []
  },
  {
   "cell_type": "code",
   "execution_count": null,
   "metadata": {},
   "outputs": [],
   "source": []
  },
  {
   "cell_type": "code",
   "execution_count": null,
   "metadata": {},
   "outputs": [],
   "source": []
  },
  {
   "cell_type": "markdown",
   "metadata": {},
   "source": [
    "### 检测comp_tag函数"
   ]
  },
  {
   "cell_type": "code",
   "execution_count": null,
   "metadata": {},
   "outputs": [],
   "source": [
    "data_generator_new.comp_tag()"
   ]
  },
  {
   "cell_type": "markdown",
   "metadata": {},
   "source": [
    "### 检测data_aggregator函数，返回概念、非概念各自聚合公司的结果，以及公司标签关联、公司总数"
   ]
  },
  {
   "cell_type": "code",
   "execution_count": null,
   "metadata": {},
   "outputs": [],
   "source": [
    "data_generator_new.data_aggregator()"
   ]
  },
  {
   "cell_type": "markdown",
   "metadata": {},
   "source": [
    "### 计算公司标签全集"
   ]
  },
  {
   "cell_type": "code",
   "execution_count": null,
   "metadata": {},
   "outputs": [],
   "source": [
    "data_generator_new.properties()"
   ]
  },
  {
   "cell_type": "markdown",
   "metadata": {},
   "source": [
    "### 计算标签关联"
   ]
  },
  {
   "cell_type": "code",
   "execution_count": null,
   "metadata": {},
   "outputs": [],
   "source": [
    "%load_ext memory_profiler"
   ]
  },
  {
   "cell_type": "code",
   "execution_count": null,
   "metadata": {},
   "outputs": [],
   "source": [
    "tag_tag_relations = data_generator_new.tag_tag2()"
   ]
  },
  {
   "cell_type": "code",
   "execution_count": 3,
   "metadata": {},
   "outputs": [],
   "source": [
    "def final_count(l1, l2):\n",
    "    if len(l1.union(l2)) == 0:\n",
    "        return 0\n",
    "    else:\n",
    "        return len(l1.intersection(l2))/len(l1.union(l2))\n",
    "\n",
    "def simple_minmax(column_target, min_v=0.001, max_v=1):\n",
    "    target = column_target.values.reshape(-1, 1)\n",
    "    scaler = MinMaxScaler(feature_range=(min_v, max_v))\n",
    "    scaler.fit(target)\n",
    "    return scaler.transform(target)"
   ]
  },
  {
   "cell_type": "code",
   "execution_count": 4,
   "metadata": {},
   "outputs": [],
   "source": [
    "from pyspark import SQLContext, SparkContext\n",
    "from pyspark.sql import SparkSession\n",
    "sc = SparkContext.getOrCreate()\n",
    "sqlContext=SQLContext(sc)\n",
    "spark = SparkSession.builder.getOrCreate()"
   ]
  },
  {
   "cell_type": "code",
   "execution_count": null,
   "metadata": {},
   "outputs": [],
   "source": [
    "tag_comps_aggregated_raw = pickle.load(open(\"../Data/Output/Tag_graph/tag_comps_aggregated.pkl\", \"rb\"))\n",
    "tag_comps_aggregated_raw.comp_int_id = tag_comps_aggregated_raw.comp_int_id.apply(lambda x: list(x))\n",
    "tag_comps_aggregated = sqlContext.createDataFrame(tag_comps_aggregated_raw)\n",
    "result = tag_comps_aggregated.withColumnRenamed(\"comp_int_id\", \"comp_int_id2\") \\\n",
    "    .withColumnRenamed(\"type\", \"type2\") \\\n",
    "    .withColumnRenamed(\"tag_uuid\", \"tag_uuid2\") \\\n",
    "    .crossJoin(tag_comps_aggregated) \\\n",
    "    .rdd.map(lambda x: (x[2], x[5]) + (x[1] + x[4], final_count(set(x[0]), set(x[3])))) \\\n",
    "    .distinct().toDF([\"tag1\", \"tag2\", \"link_type\", \"link_value\"]).filter(\"link_value > 0\")\n",
    "tag_tag = result.toPandas()\n",
    "tag_tag.columns = [\"tag1\", \"tag2\", \"link_type\", \"link_value\"]\n",
    "tag_tag.link_value = nctag_nctag.link_value.apply(lambda x: np.log2(min(0.000001 + x, 1)))\n",
    "tag_tag.link_value = simple_minmax(nctag_nctag.link_value)\n",
    "tag_tag = tag_tag[[\"tag1\", \"tag2\", \"link_type\", \"link_value\"]].drop_duplicates()\n",
    "tag_tag[\"tag_link\"] = tag_tag.tag1 + \"-\" + tag_tag.tag2\n",
    "tag_tag_dict = dict(zip(tag_tag.tag_link, (tag_tag.link_value, tag_tag.link_type)))"
   ]
  },
  {
   "cell_type": "markdown",
   "metadata": {},
   "source": [
    "### 点和边关系储存"
   ]
  },
  {
   "cell_type": "code",
   "execution_count": null,
   "metadata": {},
   "outputs": [],
   "source": [
    "data_generator.neo4j_merge(tag_points, company_points, comp_tag_relations, ctag_ctag_relations, ctag_nctag_relation, nctag_nctag)"
   ]
  },
  {
   "cell_type": "markdown",
   "metadata": {},
   "source": [
    "### 全流程测试"
   ]
  },
  {
   "cell_type": "code",
   "execution_count": null,
   "metadata": {},
   "outputs": [],
   "source": [
    "!python Code/pipline_new.py"
   ]
  },
  {
   "cell_type": "code",
   "execution_count": null,
   "metadata": {},
   "outputs": [],
   "source": []
  },
  {
   "cell_type": "markdown",
   "metadata": {},
   "source": [
    "### 智能网联汽车关联的top1000概念非概念标签"
   ]
  },
  {
   "cell_type": "code",
   "execution_count": null,
   "metadata": {},
   "outputs": [],
   "source": [
    "relations = pd.read_csv(\"../Data/Output/Tag_graph/all_relations.csv\", header=None)"
   ]
  },
  {
   "cell_type": "code",
   "execution_count": null,
   "metadata": {},
   "outputs": [],
   "source": [
    "relations.columns = [\"src_id\", \"target_id\", \"rel_value\", \"rel_type\"]"
   ]
  },
  {
   "cell_type": "code",
   "execution_count": null,
   "metadata": {},
   "outputs": [],
   "source": [
    "relations.head(1)"
   ]
  },
  {
   "cell_type": "code",
   "execution_count": null,
   "metadata": {},
   "outputs": [],
   "source": [
    "tag_dict = pickle.load(open(\"../Data/Output/Tag_graph/tag_dict.pkl\", \"rb\"))\n",
    "tag_dict_reverse = dict(zip(tag_dict.values(), tag_dict.keys()))"
   ]
  },
  {
   "cell_type": "code",
   "execution_count": null,
   "metadata": {},
   "outputs": [],
   "source": [
    "target_tag = tag_dict.get(\"智能网联汽车\")"
   ]
  },
  {
   "cell_type": "code",
   "execution_count": null,
   "metadata": {},
   "outputs": [],
   "source": [
    "target_tag"
   ]
  },
  {
   "cell_type": "code",
   "execution_count": null,
   "metadata": {},
   "outputs": [],
   "source": [
    "linked_ctag_top_1000 = relations[(relations.src_id == target_tag) & (relations.rel_type == \"ctag_ctag\")].sort_values(by=\"rel_value\", ascending=False)"
   ]
  },
  {
   "cell_type": "code",
   "execution_count": null,
   "metadata": {},
   "outputs": [],
   "source": [
    "len(linked_ctag_top_1000)"
   ]
  },
  {
   "cell_type": "code",
   "execution_count": null,
   "metadata": {},
   "outputs": [],
   "source": [
    "_linked_ctag_top_1000 = relations[(relations.src_id == target_tag) & (relations.rel_type == \"ctag_ctag\")].sort_values(by=\"rel_value\", ascending=False)"
   ]
  },
  {
   "cell_type": "code",
   "execution_count": null,
   "metadata": {},
   "outputs": [],
   "source": [
    "len(_linked_ctag_top_1000)"
   ]
  },
  {
   "cell_type": "code",
   "execution_count": null,
   "metadata": {},
   "outputs": [],
   "source": [
    "linked_nctag_top_1000 = relations[(relations.target_id == target_tag) & (relations.rel_type == \"ctag_ctag\")].sort_values(by=\"rel_value\", ascending=False)[:1000]"
   ]
  },
  {
   "cell_type": "code",
   "execution_count": null,
   "metadata": {},
   "outputs": [],
   "source": [
    "len(linked_nctag_top_1000)"
   ]
  },
  {
   "cell_type": "code",
   "execution_count": null,
   "metadata": {},
   "outputs": [],
   "source": [
    "_linked_nctag_top_1000 = relations[(relations.src_id == target_tag) & (relations.rel_type == \"ctag_ntag\")].sort_values(by=\"rel_value\", ascending=False)[:1000]"
   ]
  },
  {
   "cell_type": "code",
   "execution_count": null,
   "metadata": {},
   "outputs": [],
   "source": [
    "linked_ctag_top_1000[\"target_tag_name\"] = linked_ctag_top_1000.targe_id.apply(lambda x: tag_dict_reverse.get(x))[:1000]"
   ]
  },
  {
   "cell_type": "code",
   "execution_count": null,
   "metadata": {},
   "outputs": [],
   "source": [
    "linked_nctag_top_1000[\"target_tag_name\"] = linked_nctag_top_1000.targe_id.apply(lambda x: tag_dict_reverse.get(x))[:1000]"
   ]
  },
  {
   "cell_type": "code",
   "execution_count": null,
   "metadata": {},
   "outputs": [],
   "source": []
  },
  {
   "cell_type": "code",
   "execution_count": 51,
   "metadata": {},
   "outputs": [],
   "source": [
    "from pyspark.sql import functions as F\n",
    "from pyspark.sql.functions import udf"
   ]
  },
  {
   "cell_type": "code",
   "execution_count": 6,
   "metadata": {},
   "outputs": [
    {
     "ename": "SyntaxError",
     "evalue": "invalid syntax (data_generator_spark.py, line 96)",
     "output_type": "error",
     "traceback": [
      "Traceback \u001b[0;36m(most recent call last)\u001b[0m:\n",
      "  File \u001b[1;32m\"/home/zijun.wu/packages/anaconda3/lib/python3.6/site-packages/IPython/core/interactiveshell.py\"\u001b[0m, line \u001b[1;32m2910\u001b[0m, in \u001b[1;35mrun_code\u001b[0m\n    exec(code_obj, self.user_global_ns, self.user_ns)\n",
      "\u001b[0;36m  File \u001b[0;32m\"<ipython-input-6-da84248e9008>\"\u001b[0;36m, line \u001b[0;32m1\u001b[0;36m, in \u001b[0;35m<module>\u001b[0;36m\u001b[0m\n\u001b[0;31m    from Code.data_generator_spark import comp_tag\u001b[0m\n",
      "\u001b[0;36m  File \u001b[0;32m\"/data1/zijun.wu/Tag_graph/Code/data_generator_spark.py\"\u001b[0;36m, line \u001b[0;32m96\u001b[0m\n\u001b[0;31m    .groupby(\"label_name\") \\\u001b[0m\n\u001b[0m    ^\u001b[0m\n\u001b[0;31mSyntaxError\u001b[0m\u001b[0;31m:\u001b[0m invalid syntax\n"
     ]
    }
   ],
   "source": [
    "from Code.data_generator_spark import comp_tag"
   ]
  },
  {
   "cell_type": "code",
   "execution_count": null,
   "metadata": {},
   "outputs": [],
   "source": [
    "reload(data_generator_spart)"
   ]
  },
  {
   "cell_type": "code",
   "execution_count": null,
   "metadata": {},
   "outputs": [],
   "source": []
  },
  {
   "cell_type": "code",
   "execution_count": 28,
   "metadata": {},
   "outputs": [],
   "source": [
    "x = sc.parallelize([[\"a\", \"x\", 2, 1], [\"a\", \"x\", 3, 1], [\"b\", \"y\", 4, 1], [\"b\", \"y\", 5, 1]]).toDF([\"tag\", \"property\", \"comp_id\", \"count\"])"
   ]
  },
  {
   "cell_type": "code",
   "execution_count": 29,
   "metadata": {},
   "outputs": [
    {
     "name": "stdout",
     "output_type": "stream",
     "text": [
      "+---+--------+-------+-----+\n",
      "|tag|property|comp_id|count|\n",
      "+---+--------+-------+-----+\n",
      "|  a|       x|      2|    1|\n",
      "|  a|       x|      3|    1|\n",
      "|  b|       y|      4|    1|\n",
      "|  b|       y|      5|    1|\n",
      "+---+--------+-------+-----+\n",
      "\n"
     ]
    }
   ],
   "source": [
    "x.show()"
   ]
  },
  {
   "cell_type": "code",
   "execution_count": 40,
   "metadata": {},
   "outputs": [
    {
     "name": "stdout",
     "output_type": "stream",
     "text": [
      "+---+-------+-------------+----------+\n",
      "|tag|comp_id|max(property)|sum(count)|\n",
      "+---+-------+-------------+----------+\n",
      "|  b| [5, 4]|            y|         2|\n",
      "|  a| [2, 3]|            x|         2|\n",
      "+---+-------+-------------+----------+\n",
      "\n"
     ]
    }
   ],
   "source": [
    "x.groupby(\"tag\").agg(F.collect_set(\"comp_id\").alias(\"comp_id\"), F.max(\"property\"), F.sum(\"count\")).show()"
   ]
  },
  {
   "cell_type": "code",
   "execution_count": null,
   "metadata": {},
   "outputs": [],
   "source": [
    "x.groupby(\"tag\").agg(F.collect_set(\"comp_id\").alias(\"comp_id\"), x.property)"
   ]
  },
  {
   "cell_type": "code",
   "execution_count": 46,
   "metadata": {},
   "outputs": [
    {
     "name": "stdout",
     "output_type": "stream",
     "text": [
      "+---+--------+-------+-----+--------+-------+-----+\n",
      "|tag|property|comp_id|count|property|comp_id|count|\n",
      "+---+--------+-------+-----+--------+-------+-----+\n",
      "|  b|       y|      4|    1|       y|      4|    1|\n",
      "|  b|       y|      4|    1|       y|      5|    1|\n",
      "|  b|       y|      5|    1|       y|      4|    1|\n",
      "|  b|       y|      5|    1|       y|      5|    1|\n",
      "|  a|       x|      2|    1|       x|      2|    1|\n",
      "|  a|       x|      2|    1|       x|      3|    1|\n",
      "|  a|       x|      3|    1|       x|      2|    1|\n",
      "|  a|       x|      3|    1|       x|      3|    1|\n",
      "+---+--------+-------+-----+--------+-------+-----+\n",
      "\n"
     ]
    }
   ],
   "source": [
    "x.join(x, \"tag\", \"left_outer\").show()"
   ]
  },
  {
   "cell_type": "code",
   "execution_count": 47,
   "metadata": {},
   "outputs": [],
   "source": [
    "y = sc.parallelize([[\"a\", \"测试\", 2, 1], [\"a\", \"猫\", 3, 1], [\"b\", \"狗狗\", 4, 1], [\"b\", \"老师\", 5, 1]]).toDF([\"tag\", \"property\", \"comp_id\", \"count\"])"
   ]
  },
  {
   "cell_type": "code",
   "execution_count": 48,
   "metadata": {},
   "outputs": [
    {
     "name": "stdout",
     "output_type": "stream",
     "text": [
      "+---+--------+-------+-----+\n",
      "|tag|property|comp_id|count|\n",
      "+---+--------+-------+-----+\n",
      "|  a|      测试|      2|    1|\n",
      "|  a|       猫|      3|    1|\n",
      "|  b|      狗狗|      4|    1|\n",
      "|  b|      老师|      5|    1|\n",
      "+---+--------+-------+-----+\n",
      "\n"
     ]
    }
   ],
   "source": [
    "y.show()"
   ]
  },
  {
   "cell_type": "code",
   "execution_count": 52,
   "metadata": {},
   "outputs": [],
   "source": [
    "uuid_udf = udf(lambda x: uuid.uuid5(uuid.NAMESPACE_URL, x).hex)"
   ]
  },
  {
   "cell_type": "code",
   "execution_count": 57,
   "metadata": {},
   "outputs": [],
   "source": [
    "z = y.withColumn(\"uuid\", uuid_udf(\"property\"))"
   ]
  },
  {
   "cell_type": "code",
   "execution_count": 55,
   "metadata": {},
   "outputs": [
    {
     "data": {
      "text/plain": [
       "<bound method DataFrame.count of DataFrame[tag: string, property: string, comp_id: bigint, count: bigint]>"
      ]
     },
     "execution_count": 55,
     "metadata": {},
     "output_type": "execute_result"
    }
   ],
   "source": [
    "y.count"
   ]
  },
  {
   "cell_type": "code",
   "execution_count": 58,
   "metadata": {},
   "outputs": [
    {
     "data": {
      "text/plain": [
       "[('tag', 'string'),\n",
       " ('property', 'string'),\n",
       " ('comp_id', 'bigint'),\n",
       " ('count', 'bigint'),\n",
       " ('uuid', 'string')]"
      ]
     },
     "execution_count": 58,
     "metadata": {},
     "output_type": "execute_result"
    }
   ],
   "source": [
    "z.dtypes"
   ]
  },
  {
   "cell_type": "code",
   "execution_count": 59,
   "metadata": {},
   "outputs": [
    {
     "name": "stdout",
     "output_type": "stream",
     "text": [
      "+---+--------+-------+-----+--------------------+\n",
      "|tag|property|comp_id|count|                uuid|\n",
      "+---+--------+-------+-----+--------------------+\n",
      "|  a|      测试|      2|    1|6ad47cb2231155f0a...|\n",
      "|  a|       猫|      3|    1|8a93424cbff256e2a...|\n",
      "|  b|      狗狗|      4|    1|a545c122b48f51f3a...|\n",
      "|  b|      老师|      5|    1|cf7353129a935377a...|\n",
      "+---+--------+-------+-----+--------------------+\n",
      "\n"
     ]
    }
   ],
   "source": [
    "z.show()"
   ]
  },
  {
   "cell_type": "code",
   "execution_count": 61,
   "metadata": {},
   "outputs": [],
   "source": [
    "def test(df):\n",
    "    df = df.withColumn(\"uuid\", uuid_udf(\"property\"))\n",
    "    return df"
   ]
  },
  {
   "cell_type": "code",
   "execution_count": 62,
   "metadata": {},
   "outputs": [],
   "source": [
    "t = test(y)"
   ]
  },
  {
   "cell_type": "code",
   "execution_count": 63,
   "metadata": {},
   "outputs": [
    {
     "name": "stdout",
     "output_type": "stream",
     "text": [
      "+---+--------+-------+-----+--------------------+\n",
      "|tag|property|comp_id|count|                uuid|\n",
      "+---+--------+-------+-----+--------------------+\n",
      "|  a|      测试|      2|    1|6ad47cb2231155f0a...|\n",
      "|  a|       猫|      3|    1|8a93424cbff256e2a...|\n",
      "|  b|      狗狗|      4|    1|a545c122b48f51f3a...|\n",
      "|  b|      老师|      5|    1|cf7353129a935377a...|\n",
      "+---+--------+-------+-----+--------------------+\n",
      "\n"
     ]
    }
   ],
   "source": [
    "t.show()"
   ]
  },
  {
   "cell_type": "code",
   "execution_count": 64,
   "metadata": {},
   "outputs": [
    {
     "name": "stdout",
     "output_type": "stream",
     "text": [
      "+---+--------+-------+-----+\n",
      "|tag|property|comp_id|count|\n",
      "+---+--------+-------+-----+\n",
      "|  a|      测试|      2|    1|\n",
      "|  a|       猫|      3|    1|\n",
      "|  b|      狗狗|      4|    1|\n",
      "|  b|      老师|      5|    1|\n",
      "+---+--------+-------+-----+\n",
      "\n"
     ]
    }
   ],
   "source": [
    "y.show()"
   ]
  },
  {
   "cell_type": "code",
   "execution_count": 72,
   "metadata": {},
   "outputs": [
    {
     "data": {
      "text/plain": [
       "Column<b'(comp_id + 2)'>"
      ]
     },
     "execution_count": 72,
     "metadata": {},
     "output_type": "execute_result"
    }
   ],
   "source": [
    "y.comp_id + 2"
   ]
  },
  {
   "cell_type": "code",
   "execution_count": null,
   "metadata": {},
   "outputs": [],
   "source": []
  }
 ],
 "metadata": {
  "kernelspec": {
   "display_name": "Python 3",
   "language": "python",
   "name": "python3"
  },
  "language_info": {
   "codemirror_mode": {
    "name": "ipython",
    "version": 3
   },
   "file_extension": ".py",
   "mimetype": "text/x-python",
   "name": "python",
   "nbconvert_exporter": "python",
   "pygments_lexer": "ipython3",
   "version": "3.6.4"
  }
 },
 "nbformat": 4,
 "nbformat_minor": 2
}
